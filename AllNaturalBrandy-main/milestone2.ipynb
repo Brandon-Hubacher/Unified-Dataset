{
 "cells": [
  {
   "cell_type": "code",
   "execution_count": 322,
   "id": "sapphire-kazakhstan",
   "metadata": {},
   "outputs": [],
   "source": [
    "dataset_id = \"datamart\""
   ]
  },
  {
   "cell_type": "code",
   "execution_count": 2,
   "id": "compound-drove",
   "metadata": {},
   "outputs": [
    {
     "name": "stdout",
     "output_type": "stream",
     "text": [
      "Dataset 'coastal-well-303101:datamart' successfully created.\n"
     ]
    }
   ],
   "source": [
    "!bq --location=US mk --dataset {dataset_id}"
   ]
  },
  {
   "cell_type": "code",
   "execution_count": 10,
   "id": "lesser-change",
   "metadata": {},
   "outputs": [
    {
     "data": {
      "text/html": [
       "<div>\n",
       "<style scoped>\n",
       "    .dataframe tbody tr th:only-of-type {\n",
       "        vertical-align: middle;\n",
       "    }\n",
       "\n",
       "    .dataframe tbody tr th {\n",
       "        vertical-align: top;\n",
       "    }\n",
       "\n",
       "    .dataframe thead th {\n",
       "        text-align: right;\n",
       "    }\n",
       "</style>\n",
       "<table border=\"1\" class=\"dataframe\">\n",
       "  <thead>\n",
       "    <tr style=\"text-align: right;\">\n",
       "      <th></th>\n",
       "    </tr>\n",
       "  </thead>\n",
       "  <tbody>\n",
       "  </tbody>\n",
       "</table>\n",
       "</div>"
      ],
      "text/plain": [
       "Empty DataFrame\n",
       "Columns: []\n",
       "Index: []"
      ]
     },
     "execution_count": 10,
     "metadata": {},
     "output_type": "execute_result"
    }
   ],
   "source": [
    "%%bigquery\n",
    "ALTER TABLE kaggle_staging.bollywood\n",
    "ADD COLUMN titleType STRING"
   ]
  },
  {
   "cell_type": "code",
   "execution_count": 13,
   "id": "numeric-reaction",
   "metadata": {},
   "outputs": [
    {
     "data": {
      "text/html": [
       "<div>\n",
       "<style scoped>\n",
       "    .dataframe tbody tr th:only-of-type {\n",
       "        vertical-align: middle;\n",
       "    }\n",
       "\n",
       "    .dataframe tbody tr th {\n",
       "        vertical-align: top;\n",
       "    }\n",
       "\n",
       "    .dataframe thead th {\n",
       "        text-align: right;\n",
       "    }\n",
       "</style>\n",
       "<table border=\"1\" class=\"dataframe\">\n",
       "  <thead>\n",
       "    <tr style=\"text-align: right;\">\n",
       "      <th></th>\n",
       "    </tr>\n",
       "  </thead>\n",
       "  <tbody>\n",
       "  </tbody>\n",
       "</table>\n",
       "</div>"
      ],
      "text/plain": [
       "Empty DataFrame\n",
       "Columns: []\n",
       "Index: []"
      ]
     },
     "execution_count": 13,
     "metadata": {},
     "output_type": "execute_result"
    }
   ],
   "source": [
    "%%bigquery\n",
    "ALTER TABLE kaggle_staging.bollywood\n",
    "ADD COLUMN primaryTitle STRING"
   ]
  },
  {
   "cell_type": "code",
   "execution_count": 14,
   "id": "premium-channels",
   "metadata": {},
   "outputs": [
    {
     "data": {
      "text/html": [
       "<div>\n",
       "<style scoped>\n",
       "    .dataframe tbody tr th:only-of-type {\n",
       "        vertical-align: middle;\n",
       "    }\n",
       "\n",
       "    .dataframe tbody tr th {\n",
       "        vertical-align: top;\n",
       "    }\n",
       "\n",
       "    .dataframe thead th {\n",
       "        text-align: right;\n",
       "    }\n",
       "</style>\n",
       "<table border=\"1\" class=\"dataframe\">\n",
       "  <thead>\n",
       "    <tr style=\"text-align: right;\">\n",
       "      <th></th>\n",
       "    </tr>\n",
       "  </thead>\n",
       "  <tbody>\n",
       "  </tbody>\n",
       "</table>\n",
       "</div>"
      ],
      "text/plain": [
       "Empty DataFrame\n",
       "Columns: []\n",
       "Index: []"
      ]
     },
     "execution_count": 14,
     "metadata": {},
     "output_type": "execute_result"
    }
   ],
   "source": [
    "%%bigquery\n",
    "ALTER TABLE kaggle_staging.bollywood\n",
    "ADD COLUMN isAdult BOOL"
   ]
  },
  {
   "cell_type": "code",
   "execution_count": 17,
   "id": "dangerous-youth",
   "metadata": {},
   "outputs": [
    {
     "data": {
      "text/html": [
       "<div>\n",
       "<style scoped>\n",
       "    .dataframe tbody tr th:only-of-type {\n",
       "        vertical-align: middle;\n",
       "    }\n",
       "\n",
       "    .dataframe tbody tr th {\n",
       "        vertical-align: top;\n",
       "    }\n",
       "\n",
       "    .dataframe thead th {\n",
       "        text-align: right;\n",
       "    }\n",
       "</style>\n",
       "<table border=\"1\" class=\"dataframe\">\n",
       "  <thead>\n",
       "    <tr style=\"text-align: right;\">\n",
       "      <th></th>\n",
       "    </tr>\n",
       "  </thead>\n",
       "  <tbody>\n",
       "  </tbody>\n",
       "</table>\n",
       "</div>"
      ],
      "text/plain": [
       "Empty DataFrame\n",
       "Columns: []\n",
       "Index: []"
      ]
     },
     "execution_count": 17,
     "metadata": {},
     "output_type": "execute_result"
    }
   ],
   "source": [
    "%%bigquery\n",
    "ALTER TABLE kaggle_staging.bollywood\n",
    "ADD COLUMN endYear INT64"
   ]
  },
  {
   "cell_type": "code",
   "execution_count": 18,
   "id": "adjacent-assessment",
   "metadata": {},
   "outputs": [
    {
     "data": {
      "text/html": [
       "<div>\n",
       "<style scoped>\n",
       "    .dataframe tbody tr th:only-of-type {\n",
       "        vertical-align: middle;\n",
       "    }\n",
       "\n",
       "    .dataframe tbody tr th {\n",
       "        vertical-align: top;\n",
       "    }\n",
       "\n",
       "    .dataframe thead th {\n",
       "        text-align: right;\n",
       "    }\n",
       "</style>\n",
       "<table border=\"1\" class=\"dataframe\">\n",
       "  <thead>\n",
       "    <tr style=\"text-align: right;\">\n",
       "      <th></th>\n",
       "    </tr>\n",
       "  </thead>\n",
       "  <tbody>\n",
       "  </tbody>\n",
       "</table>\n",
       "</div>"
      ],
      "text/plain": [
       "Empty DataFrame\n",
       "Columns: []\n",
       "Index: []"
      ]
     },
     "execution_count": 18,
     "metadata": {},
     "output_type": "execute_result"
    }
   ],
   "source": [
    "%%bigquery\n",
    "ALTER TABLE kaggle_staging.bollywood\n",
    "ADD COLUMN runtimeMinutes INT64"
   ]
  },
  {
   "cell_type": "code",
   "execution_count": 20,
   "id": "acceptable-touch",
   "metadata": {},
   "outputs": [
    {
     "data": {
      "text/html": [
       "<div>\n",
       "<style scoped>\n",
       "    .dataframe tbody tr th:only-of-type {\n",
       "        vertical-align: middle;\n",
       "    }\n",
       "\n",
       "    .dataframe tbody tr th {\n",
       "        vertical-align: top;\n",
       "    }\n",
       "\n",
       "    .dataframe thead th {\n",
       "        text-align: right;\n",
       "    }\n",
       "</style>\n",
       "<table border=\"1\" class=\"dataframe\">\n",
       "  <thead>\n",
       "    <tr style=\"text-align: right;\">\n",
       "      <th></th>\n",
       "    </tr>\n",
       "  </thead>\n",
       "  <tbody>\n",
       "  </tbody>\n",
       "</table>\n",
       "</div>"
      ],
      "text/plain": [
       "Empty DataFrame\n",
       "Columns: []\n",
       "Index: []"
      ]
     },
     "execution_count": 20,
     "metadata": {},
     "output_type": "execute_result"
    }
   ],
   "source": [
    "%%bigquery\n",
    "ALTER TABLE kaggle_staging.bollywood\n",
    "ADD COLUMN averageRating FLOAT64"
   ]
  },
  {
   "cell_type": "code",
   "execution_count": 21,
   "id": "stuffed-vertical",
   "metadata": {},
   "outputs": [
    {
     "data": {
      "text/html": [
       "<div>\n",
       "<style scoped>\n",
       "    .dataframe tbody tr th:only-of-type {\n",
       "        vertical-align: middle;\n",
       "    }\n",
       "\n",
       "    .dataframe tbody tr th {\n",
       "        vertical-align: top;\n",
       "    }\n",
       "\n",
       "    .dataframe thead th {\n",
       "        text-align: right;\n",
       "    }\n",
       "</style>\n",
       "<table border=\"1\" class=\"dataframe\">\n",
       "  <thead>\n",
       "    <tr style=\"text-align: right;\">\n",
       "      <th></th>\n",
       "    </tr>\n",
       "  </thead>\n",
       "  <tbody>\n",
       "  </tbody>\n",
       "</table>\n",
       "</div>"
      ],
      "text/plain": [
       "Empty DataFrame\n",
       "Columns: []\n",
       "Index: []"
      ]
     },
     "execution_count": 21,
     "metadata": {},
     "output_type": "execute_result"
    }
   ],
   "source": [
    "%%bigquery\n",
    "ALTER TABLE kaggle_staging.bollywood\n",
    "ADD COLUMN numVotes INT64"
   ]
  },
  {
   "cell_type": "code",
   "execution_count": 313,
   "id": "union-journey",
   "metadata": {},
   "outputs": [
    {
     "data": {
      "text/html": [
       "<div>\n",
       "<style scoped>\n",
       "    .dataframe tbody tr th:only-of-type {\n",
       "        vertical-align: middle;\n",
       "    }\n",
       "\n",
       "    .dataframe tbody tr th {\n",
       "        vertical-align: top;\n",
       "    }\n",
       "\n",
       "    .dataframe thead th {\n",
       "        text-align: right;\n",
       "    }\n",
       "</style>\n",
       "<table border=\"1\" class=\"dataframe\">\n",
       "  <thead>\n",
       "    <tr style=\"text-align: right;\">\n",
       "      <th></th>\n",
       "    </tr>\n",
       "  </thead>\n",
       "  <tbody>\n",
       "  </tbody>\n",
       "</table>\n",
       "</div>"
      ],
      "text/plain": [
       "Empty DataFrame\n",
       "Columns: []\n",
       "Index: []"
      ]
     },
     "execution_count": 313,
     "metadata": {},
     "output_type": "execute_result"
    }
   ],
   "source": [
    "%%bigquery\n",
    "CREATE TABLE datamart.movie_title\n",
    "AS ((SELECT\n",
    "     tconst AS titleID,\n",
    "     titleType,   \n",
    "     primaryTitle,\n",
    "     originalTitle,\n",
    "     CAST(\n",
    "         CASE \n",
    "             WHEN isAdult = '0'\n",
    "                 THEN False\n",
    "             ELSE True\n",
    "         END AS BOOL) AS isAdult,\n",
    "     CAST(\n",
    "         CASE \n",
    "             WHEN startYear = '\\\\N' \n",
    "                 THEN NULL \n",
    "             ELSE startYear\n",
    "         END AS INT64) AS startYear,\n",
    "     CAST(\n",
    "         CASE \n",
    "             WHEN endYear = '\\\\N'\n",
    "                 THEN NULL \n",
    "             ELSE endYear\n",
    "         END AS INT64) AS endYear,\n",
    "     CAST(\n",
    "         CASE \n",
    "             WHEN runtimeMinutes = '\\\\N' \n",
    "                 THEN NULL \n",
    "             ELSE runtimeMinutes\n",
    "         END AS INT64) AS runTimeMinutes,\n",
    "     genres\n",
    "   FROM IMDb_staging.title_basics)\n",
    "UNION DISTINCT\n",
    "   (SELECT\n",
    "    GENERATE_UUID() AS titleID,\n",
    "    titleType,\n",
    "    Title,\n",
    "    Title,\n",
    "    isAdult,\n",
    "    Year,\n",
    "    endYear,\n",
    "    runtimeMinutes,\n",
    "    Genre\n",
    "   FROM kaggle_staging.bollywood))"
   ]
  },
  {
   "cell_type": "code",
   "execution_count": 309,
   "id": "continent-conversion",
   "metadata": {},
   "outputs": [
    {
     "data": {
      "text/html": [
       "<div>\n",
       "<style scoped>\n",
       "    .dataframe tbody tr th:only-of-type {\n",
       "        vertical-align: middle;\n",
       "    }\n",
       "\n",
       "    .dataframe tbody tr th {\n",
       "        vertical-align: top;\n",
       "    }\n",
       "\n",
       "    .dataframe thead th {\n",
       "        text-align: right;\n",
       "    }\n",
       "</style>\n",
       "<table border=\"1\" class=\"dataframe\">\n",
       "  <thead>\n",
       "    <tr style=\"text-align: right;\">\n",
       "      <th></th>\n",
       "    </tr>\n",
       "  </thead>\n",
       "  <tbody>\n",
       "  </tbody>\n",
       "</table>\n",
       "</div>"
      ],
      "text/plain": [
       "Empty DataFrame\n",
       "Columns: []\n",
       "Index: []"
      ]
     },
     "execution_count": 309,
     "metadata": {},
     "output_type": "execute_result"
    }
   ],
   "source": [
    "%%bigquery\n",
    "CREATE TABLE datamart.episode\n",
    "AS (SELECT\n",
    "    tconst AS titleID,\n",
    "    tconst AS parentTitleID,\n",
    "    CAST(\n",
    "         CASE \n",
    "             WHEN seasonNumber = '\\\\N' \n",
    "                 THEN NULL \n",
    "             ELSE seasonNumber\n",
    "         END AS INT64) AS seasonNumber,\n",
    "    CAST(\n",
    "         CASE \n",
    "             WHEN episodeNumber = '\\\\N' \n",
    "                 THEN NULL \n",
    "             ELSE episodeNumber\n",
    "         END AS INT64) AS episodeNumber\n",
    "    FROM IMDb_staging.title_episode)"
   ]
  },
  {
   "cell_type": "markdown",
   "id": "desperate-atlantic",
   "metadata": {},
   "source": []
  },
  {
   "cell_type": "code",
   "execution_count": 314,
   "id": "bright-display",
   "metadata": {},
   "outputs": [
    {
     "data": {
      "text/html": [
       "<div>\n",
       "<style scoped>\n",
       "    .dataframe tbody tr th:only-of-type {\n",
       "        vertical-align: middle;\n",
       "    }\n",
       "\n",
       "    .dataframe tbody tr th {\n",
       "        vertical-align: top;\n",
       "    }\n",
       "\n",
       "    .dataframe thead th {\n",
       "        text-align: right;\n",
       "    }\n",
       "</style>\n",
       "<table border=\"1\" class=\"dataframe\">\n",
       "  <thead>\n",
       "    <tr style=\"text-align: right;\">\n",
       "      <th></th>\n",
       "    </tr>\n",
       "  </thead>\n",
       "  <tbody>\n",
       "  </tbody>\n",
       "</table>\n",
       "</div>"
      ],
      "text/plain": [
       "Empty DataFrame\n",
       "Columns: []\n",
       "Index: []"
      ]
     },
     "execution_count": 314,
     "metadata": {},
     "output_type": "execute_result"
    }
   ],
   "source": [
    "%%bigquery\n",
    "CREATE TABLE datamart.title_akas\n",
    "AS (SELECT\n",
    "     titleID,\n",
    "     CAST(\n",
    "         CASE \n",
    "             WHEN ordering = '\\\\N'\n",
    "                 THEN NULL \n",
    "             ELSE ordering\n",
    "         END AS INT64) AS ordering,\n",
    "     title,\n",
    "     region,\n",
    "     language,\n",
    "     attributes,\n",
    "     types,\n",
    "     CAST(\n",
    "         CASE \n",
    "             WHEN isOriginalTitle = '0'\n",
    "                 THEN False\n",
    "             ELSE True\n",
    "         END AS BOOL) AS isOriginalTitle\n",
    "    FROM IMDb_staging.title_akas)"
   ]
  },
  {
   "cell_type": "code",
   "execution_count": 156,
   "id": "weekly-washer",
   "metadata": {},
   "outputs": [
    {
     "data": {
      "text/html": [
       "<div>\n",
       "<style scoped>\n",
       "    .dataframe tbody tr th:only-of-type {\n",
       "        vertical-align: middle;\n",
       "    }\n",
       "\n",
       "    .dataframe tbody tr th {\n",
       "        vertical-align: top;\n",
       "    }\n",
       "\n",
       "    .dataframe thead th {\n",
       "        text-align: right;\n",
       "    }\n",
       "</style>\n",
       "<table border=\"1\" class=\"dataframe\">\n",
       "  <thead>\n",
       "    <tr style=\"text-align: right;\">\n",
       "      <th></th>\n",
       "    </tr>\n",
       "  </thead>\n",
       "  <tbody>\n",
       "  </tbody>\n",
       "</table>\n",
       "</div>"
      ],
      "text/plain": [
       "Empty DataFrame\n",
       "Columns: []\n",
       "Index: []"
      ]
     },
     "execution_count": 156,
     "metadata": {},
     "output_type": "execute_result"
    }
   ],
   "source": [
    "%%bigquery\n",
    "ALTER TABLE IMDb_staging.name_basics\n",
    "ADD COLUMN height INT64"
   ]
  },
  {
   "cell_type": "code",
   "execution_count": 157,
   "id": "expensive-platform",
   "metadata": {},
   "outputs": [
    {
     "data": {
      "text/html": [
       "<div>\n",
       "<style scoped>\n",
       "    .dataframe tbody tr th:only-of-type {\n",
       "        vertical-align: middle;\n",
       "    }\n",
       "\n",
       "    .dataframe tbody tr th {\n",
       "        vertical-align: top;\n",
       "    }\n",
       "\n",
       "    .dataframe thead th {\n",
       "        text-align: right;\n",
       "    }\n",
       "</style>\n",
       "<table border=\"1\" class=\"dataframe\">\n",
       "  <thead>\n",
       "    <tr style=\"text-align: right;\">\n",
       "      <th></th>\n",
       "    </tr>\n",
       "  </thead>\n",
       "  <tbody>\n",
       "  </tbody>\n",
       "</table>\n",
       "</div>"
      ],
      "text/plain": [
       "Empty DataFrame\n",
       "Columns: []\n",
       "Index: []"
      ]
     },
     "execution_count": 157,
     "metadata": {},
     "output_type": "execute_result"
    }
   ],
   "source": [
    "%%bigquery\n",
    "ALTER TABLE IMDb_staging.name_basics\n",
    "ADD COLUMN debut_as_lead_role string"
   ]
  },
  {
   "cell_type": "code",
   "execution_count": 160,
   "id": "induced-atmosphere",
   "metadata": {},
   "outputs": [
    {
     "data": {
      "text/html": [
       "<div>\n",
       "<style scoped>\n",
       "    .dataframe tbody tr th:only-of-type {\n",
       "        vertical-align: middle;\n",
       "    }\n",
       "\n",
       "    .dataframe tbody tr th {\n",
       "        vertical-align: top;\n",
       "    }\n",
       "\n",
       "    .dataframe thead th {\n",
       "        text-align: right;\n",
       "    }\n",
       "</style>\n",
       "<table border=\"1\" class=\"dataframe\">\n",
       "  <thead>\n",
       "    <tr style=\"text-align: right;\">\n",
       "      <th></th>\n",
       "    </tr>\n",
       "  </thead>\n",
       "  <tbody>\n",
       "  </tbody>\n",
       "</table>\n",
       "</div>"
      ],
      "text/plain": [
       "Empty DataFrame\n",
       "Columns: []\n",
       "Index: []"
      ]
     },
     "execution_count": 160,
     "metadata": {},
     "output_type": "execute_result"
    }
   ],
   "source": [
    "%%bigquery\n",
    "ALTER TABLE kaggle_staging.bollywood_actors\n",
    "ADD COLUMN birthYear INT64"
   ]
  },
  {
   "cell_type": "code",
   "execution_count": 161,
   "id": "animated-characterization",
   "metadata": {},
   "outputs": [
    {
     "data": {
      "text/html": [
       "<div>\n",
       "<style scoped>\n",
       "    .dataframe tbody tr th:only-of-type {\n",
       "        vertical-align: middle;\n",
       "    }\n",
       "\n",
       "    .dataframe tbody tr th {\n",
       "        vertical-align: top;\n",
       "    }\n",
       "\n",
       "    .dataframe thead th {\n",
       "        text-align: right;\n",
       "    }\n",
       "</style>\n",
       "<table border=\"1\" class=\"dataframe\">\n",
       "  <thead>\n",
       "    <tr style=\"text-align: right;\">\n",
       "      <th></th>\n",
       "    </tr>\n",
       "  </thead>\n",
       "  <tbody>\n",
       "  </tbody>\n",
       "</table>\n",
       "</div>"
      ],
      "text/plain": [
       "Empty DataFrame\n",
       "Columns: []\n",
       "Index: []"
      ]
     },
     "execution_count": 161,
     "metadata": {},
     "output_type": "execute_result"
    }
   ],
   "source": [
    "%%bigquery\n",
    "ALTER TABLE kaggle_staging.bollywood_actors\n",
    "ADD COLUMN deathYear INT64"
   ]
  },
  {
   "cell_type": "code",
   "execution_count": 162,
   "id": "meaningful-camera",
   "metadata": {},
   "outputs": [
    {
     "data": {
      "text/html": [
       "<div>\n",
       "<style scoped>\n",
       "    .dataframe tbody tr th:only-of-type {\n",
       "        vertical-align: middle;\n",
       "    }\n",
       "\n",
       "    .dataframe tbody tr th {\n",
       "        vertical-align: top;\n",
       "    }\n",
       "\n",
       "    .dataframe thead th {\n",
       "        text-align: right;\n",
       "    }\n",
       "</style>\n",
       "<table border=\"1\" class=\"dataframe\">\n",
       "  <thead>\n",
       "    <tr style=\"text-align: right;\">\n",
       "      <th></th>\n",
       "    </tr>\n",
       "  </thead>\n",
       "  <tbody>\n",
       "  </tbody>\n",
       "</table>\n",
       "</div>"
      ],
      "text/plain": [
       "Empty DataFrame\n",
       "Columns: []\n",
       "Index: []"
      ]
     },
     "execution_count": 162,
     "metadata": {},
     "output_type": "execute_result"
    }
   ],
   "source": [
    "%%bigquery\n",
    "ALTER TABLE kaggle_staging.bollywood_actors\n",
    "ADD COLUMN debut_as_lead_role string"
   ]
  },
  {
   "cell_type": "code",
   "execution_count": 315,
   "id": "yellow-rochester",
   "metadata": {},
   "outputs": [
    {
     "data": {
      "text/html": [
       "<div>\n",
       "<style scoped>\n",
       "    .dataframe tbody tr th:only-of-type {\n",
       "        vertical-align: middle;\n",
       "    }\n",
       "\n",
       "    .dataframe tbody tr th {\n",
       "        vertical-align: top;\n",
       "    }\n",
       "\n",
       "    .dataframe thead th {\n",
       "        text-align: right;\n",
       "    }\n",
       "</style>\n",
       "<table border=\"1\" class=\"dataframe\">\n",
       "  <thead>\n",
       "    <tr style=\"text-align: right;\">\n",
       "      <th></th>\n",
       "    </tr>\n",
       "  </thead>\n",
       "  <tbody>\n",
       "  </tbody>\n",
       "</table>\n",
       "</div>"
      ],
      "text/plain": [
       "Empty DataFrame\n",
       "Columns: []\n",
       "Index: []"
      ]
     },
     "execution_count": 315,
     "metadata": {},
     "output_type": "execute_result"
    }
   ],
   "source": [
    "%%bigquery\n",
    "ALTER TABLE kaggle_staging.bollywood_actors\n",
    "ADD COLUMN primaryProfession string"
   ]
  },
  {
   "cell_type": "code",
   "execution_count": 316,
   "id": "strange-omaha",
   "metadata": {},
   "outputs": [
    {
     "data": {
      "text/html": [
       "<div>\n",
       "<style scoped>\n",
       "    .dataframe tbody tr th:only-of-type {\n",
       "        vertical-align: middle;\n",
       "    }\n",
       "\n",
       "    .dataframe tbody tr th {\n",
       "        vertical-align: top;\n",
       "    }\n",
       "\n",
       "    .dataframe thead th {\n",
       "        text-align: right;\n",
       "    }\n",
       "</style>\n",
       "<table border=\"1\" class=\"dataframe\">\n",
       "  <thead>\n",
       "    <tr style=\"text-align: right;\">\n",
       "      <th></th>\n",
       "    </tr>\n",
       "  </thead>\n",
       "  <tbody>\n",
       "  </tbody>\n",
       "</table>\n",
       "</div>"
      ],
      "text/plain": [
       "Empty DataFrame\n",
       "Columns: []\n",
       "Index: []"
      ]
     },
     "execution_count": 316,
     "metadata": {},
     "output_type": "execute_result"
    }
   ],
   "source": [
    "%%bigquery\n",
    "ALTER TABLE kaggle_staging.bollywood_actors\n",
    "ADD COLUMN knownForTitles string"
   ]
  },
  {
   "cell_type": "code",
   "execution_count": 163,
   "id": "built-person",
   "metadata": {},
   "outputs": [
    {
     "data": {
      "text/html": [
       "<div>\n",
       "<style scoped>\n",
       "    .dataframe tbody tr th:only-of-type {\n",
       "        vertical-align: middle;\n",
       "    }\n",
       "\n",
       "    .dataframe tbody tr th {\n",
       "        vertical-align: top;\n",
       "    }\n",
       "\n",
       "    .dataframe thead th {\n",
       "        text-align: right;\n",
       "    }\n",
       "</style>\n",
       "<table border=\"1\" class=\"dataframe\">\n",
       "  <thead>\n",
       "    <tr style=\"text-align: right;\">\n",
       "      <th></th>\n",
       "    </tr>\n",
       "  </thead>\n",
       "  <tbody>\n",
       "  </tbody>\n",
       "</table>\n",
       "</div>"
      ],
      "text/plain": [
       "Empty DataFrame\n",
       "Columns: []\n",
       "Index: []"
      ]
     },
     "execution_count": 163,
     "metadata": {},
     "output_type": "execute_result"
    }
   ],
   "source": [
    "%%bigquery\n",
    "ALTER TABLE kaggle_staging.bollywood_actress\n",
    "ADD COLUMN birthYear INT64"
   ]
  },
  {
   "cell_type": "code",
   "execution_count": 164,
   "id": "yellow-strike",
   "metadata": {},
   "outputs": [
    {
     "data": {
      "text/html": [
       "<div>\n",
       "<style scoped>\n",
       "    .dataframe tbody tr th:only-of-type {\n",
       "        vertical-align: middle;\n",
       "    }\n",
       "\n",
       "    .dataframe tbody tr th {\n",
       "        vertical-align: top;\n",
       "    }\n",
       "\n",
       "    .dataframe thead th {\n",
       "        text-align: right;\n",
       "    }\n",
       "</style>\n",
       "<table border=\"1\" class=\"dataframe\">\n",
       "  <thead>\n",
       "    <tr style=\"text-align: right;\">\n",
       "      <th></th>\n",
       "    </tr>\n",
       "  </thead>\n",
       "  <tbody>\n",
       "  </tbody>\n",
       "</table>\n",
       "</div>"
      ],
      "text/plain": [
       "Empty DataFrame\n",
       "Columns: []\n",
       "Index: []"
      ]
     },
     "execution_count": 164,
     "metadata": {},
     "output_type": "execute_result"
    }
   ],
   "source": [
    "%%bigquery\n",
    "ALTER TABLE kaggle_staging.bollywood_actress\n",
    "ADD COLUMN deathYear INT64"
   ]
  },
  {
   "cell_type": "code",
   "execution_count": 317,
   "id": "important-testament",
   "metadata": {},
   "outputs": [
    {
     "data": {
      "text/html": [
       "<div>\n",
       "<style scoped>\n",
       "    .dataframe tbody tr th:only-of-type {\n",
       "        vertical-align: middle;\n",
       "    }\n",
       "\n",
       "    .dataframe tbody tr th {\n",
       "        vertical-align: top;\n",
       "    }\n",
       "\n",
       "    .dataframe thead th {\n",
       "        text-align: right;\n",
       "    }\n",
       "</style>\n",
       "<table border=\"1\" class=\"dataframe\">\n",
       "  <thead>\n",
       "    <tr style=\"text-align: right;\">\n",
       "      <th></th>\n",
       "    </tr>\n",
       "  </thead>\n",
       "  <tbody>\n",
       "  </tbody>\n",
       "</table>\n",
       "</div>"
      ],
      "text/plain": [
       "Empty DataFrame\n",
       "Columns: []\n",
       "Index: []"
      ]
     },
     "execution_count": 317,
     "metadata": {},
     "output_type": "execute_result"
    }
   ],
   "source": [
    "%%bigquery\n",
    "ALTER TABLE kaggle_staging.bollywood_actress\n",
    "ADD COLUMN primaryProfession string"
   ]
  },
  {
   "cell_type": "code",
   "execution_count": 318,
   "id": "irish-porcelain",
   "metadata": {},
   "outputs": [
    {
     "data": {
      "text/html": [
       "<div>\n",
       "<style scoped>\n",
       "    .dataframe tbody tr th:only-of-type {\n",
       "        vertical-align: middle;\n",
       "    }\n",
       "\n",
       "    .dataframe tbody tr th {\n",
       "        vertical-align: top;\n",
       "    }\n",
       "\n",
       "    .dataframe thead th {\n",
       "        text-align: right;\n",
       "    }\n",
       "</style>\n",
       "<table border=\"1\" class=\"dataframe\">\n",
       "  <thead>\n",
       "    <tr style=\"text-align: right;\">\n",
       "      <th></th>\n",
       "    </tr>\n",
       "  </thead>\n",
       "  <tbody>\n",
       "  </tbody>\n",
       "</table>\n",
       "</div>"
      ],
      "text/plain": [
       "Empty DataFrame\n",
       "Columns: []\n",
       "Index: []"
      ]
     },
     "execution_count": 318,
     "metadata": {},
     "output_type": "execute_result"
    }
   ],
   "source": [
    "%%bigquery\n",
    "ALTER TABLE kaggle_staging.bollywood_actress\n",
    "ADD COLUMN knownForTitles string"
   ]
  },
  {
   "cell_type": "code",
   "execution_count": 319,
   "id": "recorded-roller",
   "metadata": {},
   "outputs": [
    {
     "data": {
      "text/html": [
       "<div>\n",
       "<style scoped>\n",
       "    .dataframe tbody tr th:only-of-type {\n",
       "        vertical-align: middle;\n",
       "    }\n",
       "\n",
       "    .dataframe tbody tr th {\n",
       "        vertical-align: top;\n",
       "    }\n",
       "\n",
       "    .dataframe thead th {\n",
       "        text-align: right;\n",
       "    }\n",
       "</style>\n",
       "<table border=\"1\" class=\"dataframe\">\n",
       "  <thead>\n",
       "    <tr style=\"text-align: right;\">\n",
       "      <th></th>\n",
       "    </tr>\n",
       "  </thead>\n",
       "  <tbody>\n",
       "  </tbody>\n",
       "</table>\n",
       "</div>"
      ],
      "text/plain": [
       "Empty DataFrame\n",
       "Columns: []\n",
       "Index: []"
      ]
     },
     "execution_count": 319,
     "metadata": {},
     "output_type": "execute_result"
    }
   ],
   "source": [
    "%%bigquery\n",
    "CREATE TABLE datamart.name\n",
    "AS ((SELECT\n",
    "     nconst AS nameID,\n",
    "     primaryName,\n",
    "     CAST(\n",
    "         CASE \n",
    "             WHEN birthYear = '\\\\N' \n",
    "                 THEN NULL \n",
    "             ELSE birthYear\n",
    "         END AS INT64) AS birthYear,\n",
    "     CAST(\n",
    "         CASE \n",
    "             WHEN deathYear = '\\\\N' \n",
    "                 THEN NULL \n",
    "             ELSE deathYear\n",
    "         END AS INT64) AS deathYear,\n",
    "     height,\n",
    "     debut_as_lead_role,\n",
    "     primaryProfession,\n",
    "     knownForTitles\n",
    "   FROM IMDb_staging.name_basics)\n",
    "UNION DISTINCT\n",
    "   (SELECT\n",
    "    GENERATE_UUID() AS nameID,\n",
    "    Name,\n",
    "    birthYear,\n",
    "    deathYear,\n",
    "    Height_in_cm_,\n",
    "    debut_as_lead_role,\n",
    "    primaryProfession,\n",
    "    knownForTitles\n",
    "   FROM kaggle_staging.bollywood_actors)\n",
    "UNION DISTINCT\n",
    "   (SELECT\n",
    "    GENERATE_UUID() AS nameID,\n",
    "    Name,\n",
    "   birthYear,\n",
    "   deathYear,\n",
    "   Height_in_cm_,\n",
    "   debut_aslead_role,\n",
    "   primaryProfession,\n",
    "   knownForTitles\n",
    "   FROM kaggle_staging.bollywood_actress))"
   ]
  },
  {
   "cell_type": "code",
   "execution_count": 320,
   "id": "based-omega",
   "metadata": {},
   "outputs": [
    {
     "data": {
      "text/html": [
       "<div>\n",
       "<style scoped>\n",
       "    .dataframe tbody tr th:only-of-type {\n",
       "        vertical-align: middle;\n",
       "    }\n",
       "\n",
       "    .dataframe tbody tr th {\n",
       "        vertical-align: top;\n",
       "    }\n",
       "\n",
       "    .dataframe thead th {\n",
       "        text-align: right;\n",
       "    }\n",
       "</style>\n",
       "<table border=\"1\" class=\"dataframe\">\n",
       "  <thead>\n",
       "    <tr style=\"text-align: right;\">\n",
       "      <th></th>\n",
       "    </tr>\n",
       "  </thead>\n",
       "  <tbody>\n",
       "  </tbody>\n",
       "</table>\n",
       "</div>"
      ],
      "text/plain": [
       "Empty DataFrame\n",
       "Columns: []\n",
       "Index: []"
      ]
     },
     "execution_count": 320,
     "metadata": {},
     "output_type": "execute_result"
    }
   ],
   "source": [
    "%%bigquery\n",
    "CREATE TABLE datamart.principals\n",
    "AS ((SELECT\n",
    "     tconst AS titleID,\n",
    "     ordering,\n",
    "     nconst AS nameID,\n",
    "     category,\n",
    "     job,\n",
    "     characters AS character\n",
    "    FROM IMDb_staging.title_principals))"
   ]
  },
  {
   "cell_type": "code",
   "execution_count": 326,
   "id": "stock-macro",
   "metadata": {},
   "outputs": [
    {
     "data": {
      "text/html": [
       "<div>\n",
       "<style scoped>\n",
       "    .dataframe tbody tr th:only-of-type {\n",
       "        vertical-align: middle;\n",
       "    }\n",
       "\n",
       "    .dataframe tbody tr th {\n",
       "        vertical-align: top;\n",
       "    }\n",
       "\n",
       "    .dataframe thead th {\n",
       "        text-align: right;\n",
       "    }\n",
       "</style>\n",
       "<table border=\"1\" class=\"dataframe\">\n",
       "  <thead>\n",
       "    <tr style=\"text-align: right;\">\n",
       "      <th></th>\n",
       "    </tr>\n",
       "  </thead>\n",
       "  <tbody>\n",
       "  </tbody>\n",
       "</table>\n",
       "</div>"
      ],
      "text/plain": [
       "Empty DataFrame\n",
       "Columns: []\n",
       "Index: []"
      ]
     },
     "execution_count": 326,
     "metadata": {},
     "output_type": "execute_result"
    }
   ],
   "source": [
    "%%bigquery\n",
    "CREATE TABLE datamart.ratings\n",
    "AS ((SELECT\n",
    "     tconst AS titleID,\n",
    "     averageRating,\n",
    "     numVotes,\n",
    "     FROM IMDb_staging.title_ratings))"
   ]
  },
  {
   "cell_type": "code",
   "execution_count": 327,
   "id": "southeast-death",
   "metadata": {},
   "outputs": [
    {
     "data": {
      "text/html": [
       "<div>\n",
       "<style scoped>\n",
       "    .dataframe tbody tr th:only-of-type {\n",
       "        vertical-align: middle;\n",
       "    }\n",
       "\n",
       "    .dataframe tbody tr th {\n",
       "        vertical-align: top;\n",
       "    }\n",
       "\n",
       "    .dataframe thead th {\n",
       "        text-align: right;\n",
       "    }\n",
       "</style>\n",
       "<table border=\"1\" class=\"dataframe\">\n",
       "  <thead>\n",
       "    <tr style=\"text-align: right;\">\n",
       "      <th></th>\n",
       "    </tr>\n",
       "  </thead>\n",
       "  <tbody>\n",
       "  </tbody>\n",
       "</table>\n",
       "</div>"
      ],
      "text/plain": [
       "Empty DataFrame\n",
       "Columns: []\n",
       "Index: []"
      ]
     },
     "execution_count": 327,
     "metadata": {},
     "output_type": "execute_result"
    }
   ],
   "source": [
    "%%bigquery\n",
    "CREATE TABLE datamart.crew\n",
    "AS ((SELECT\n",
    "     tconst AS titleID,\n",
    "     directors,\n",
    "     writers\n",
    "     FROM IMDb_staging.title_crew))"
   ]
  },
  {
   "cell_type": "markdown",
   "id": "architectural-duplicate",
   "metadata": {},
   "source": [
    "4/29/2021\n",
    "The below query returns all the columns of 10 records from the datamart.movie_title table where the movie's primary title starts with 'a'. It is ordered by the movie's length in descending order limited to 10 results."
   ]
  },
  {
   "cell_type": "code",
   "execution_count": 226,
   "id": "metropolitan-village",
   "metadata": {},
   "outputs": [
    {
     "data": {
      "text/html": [
       "<div>\n",
       "<style scoped>\n",
       "    .dataframe tbody tr th:only-of-type {\n",
       "        vertical-align: middle;\n",
       "    }\n",
       "\n",
       "    .dataframe tbody tr th {\n",
       "        vertical-align: top;\n",
       "    }\n",
       "\n",
       "    .dataframe thead th {\n",
       "        text-align: right;\n",
       "    }\n",
       "</style>\n",
       "<table border=\"1\" class=\"dataframe\">\n",
       "  <thead>\n",
       "    <tr style=\"text-align: right;\">\n",
       "      <th></th>\n",
       "      <th>titleID</th>\n",
       "      <th>titleType</th>\n",
       "      <th>primaryTitle</th>\n",
       "      <th>originalTitle</th>\n",
       "      <th>isAdult</th>\n",
       "      <th>startYear</th>\n",
       "      <th>endYear</th>\n",
       "      <th>runTimeMinutes</th>\n",
       "    </tr>\n",
       "  </thead>\n",
       "  <tbody>\n",
       "    <tr>\n",
       "      <th>0</th>\n",
       "      <td>tt8677204</td>\n",
       "      <td>movie</td>\n",
       "      <td>adrusta jhatakudu</td>\n",
       "      <td>adrusta jhatakudu</td>\n",
       "      <td>False</td>\n",
       "      <td>1971.0</td>\n",
       "      <td>NaN</td>\n",
       "      <td>137</td>\n",
       "    </tr>\n",
       "    <tr>\n",
       "      <th>1</th>\n",
       "      <td>tt10580248</td>\n",
       "      <td>video</td>\n",
       "      <td>a-ha: MTV Unplugged - Summer Solstice</td>\n",
       "      <td>a-ha: MTV Unplugged - Summer Solstice</td>\n",
       "      <td>False</td>\n",
       "      <td>2017.0</td>\n",
       "      <td>NaN</td>\n",
       "      <td>115</td>\n",
       "    </tr>\n",
       "    <tr>\n",
       "      <th>2</th>\n",
       "      <td>tt9324808</td>\n",
       "      <td>movie</td>\n",
       "      <td>aTypical Wednesday</td>\n",
       "      <td>aTypical Wednesday</td>\n",
       "      <td>False</td>\n",
       "      <td>2020.0</td>\n",
       "      <td>NaN</td>\n",
       "      <td>91</td>\n",
       "    </tr>\n",
       "    <tr>\n",
       "      <th>3</th>\n",
       "      <td>tt1825208</td>\n",
       "      <td>video</td>\n",
       "      <td>abracadabra</td>\n",
       "      <td>abracadabra</td>\n",
       "      <td>False</td>\n",
       "      <td>2001.0</td>\n",
       "      <td>NaN</td>\n",
       "      <td>88</td>\n",
       "    </tr>\n",
       "    <tr>\n",
       "      <th>4</th>\n",
       "      <td>tt5650602</td>\n",
       "      <td>movie</td>\n",
       "      <td>aMari</td>\n",
       "      <td>aMari</td>\n",
       "      <td>False</td>\n",
       "      <td>2016.0</td>\n",
       "      <td>NaN</td>\n",
       "      <td>86</td>\n",
       "    </tr>\n",
       "    <tr>\n",
       "      <th>5</th>\n",
       "      <td>tt5142810</td>\n",
       "      <td>movie</td>\n",
       "      <td>an archive of one boy's sex education</td>\n",
       "      <td>an archive of one boy's sex education</td>\n",
       "      <td>False</td>\n",
       "      <td>2015.0</td>\n",
       "      <td>NaN</td>\n",
       "      <td>83</td>\n",
       "    </tr>\n",
       "    <tr>\n",
       "      <th>6</th>\n",
       "      <td>tt2148738</td>\n",
       "      <td>movie</td>\n",
       "      <td>abuela mambo</td>\n",
       "      <td>abuela mambo</td>\n",
       "      <td>False</td>\n",
       "      <td>2012.0</td>\n",
       "      <td>NaN</td>\n",
       "      <td>82</td>\n",
       "    </tr>\n",
       "    <tr>\n",
       "      <th>7</th>\n",
       "      <td>tt0181275</td>\n",
       "      <td>movie</td>\n",
       "      <td>a.k.a. Cassius Clay</td>\n",
       "      <td>a.k.a. Cassius Clay</td>\n",
       "      <td>False</td>\n",
       "      <td>1970.0</td>\n",
       "      <td>NaN</td>\n",
       "      <td>79</td>\n",
       "    </tr>\n",
       "    <tr>\n",
       "      <th>8</th>\n",
       "      <td>tt7527512</td>\n",
       "      <td>movie</td>\n",
       "      <td>aKasha</td>\n",
       "      <td>aKasha</td>\n",
       "      <td>False</td>\n",
       "      <td>2018.0</td>\n",
       "      <td>NaN</td>\n",
       "      <td>78</td>\n",
       "    </tr>\n",
       "    <tr>\n",
       "      <th>9</th>\n",
       "      <td>tt7689676</td>\n",
       "      <td>movie</td>\n",
       "      <td>are the green fields gone?</td>\n",
       "      <td>are the green fields gone?</td>\n",
       "      <td>False</td>\n",
       "      <td>NaN</td>\n",
       "      <td>NaN</td>\n",
       "      <td>77</td>\n",
       "    </tr>\n",
       "  </tbody>\n",
       "</table>\n",
       "</div>"
      ],
      "text/plain": [
       "      titleID titleType                           primaryTitle  \\\n",
       "0   tt8677204     movie                      adrusta jhatakudu   \n",
       "1  tt10580248     video  a-ha: MTV Unplugged - Summer Solstice   \n",
       "2   tt9324808     movie                     aTypical Wednesday   \n",
       "3   tt1825208     video                            abracadabra   \n",
       "4   tt5650602     movie                                  aMari   \n",
       "5   tt5142810     movie  an archive of one boy's sex education   \n",
       "6   tt2148738     movie                           abuela mambo   \n",
       "7   tt0181275     movie                    a.k.a. Cassius Clay   \n",
       "8   tt7527512     movie                                 aKasha   \n",
       "9   tt7689676     movie             are the green fields gone?   \n",
       "\n",
       "                           originalTitle  isAdult  startYear  endYear  \\\n",
       "0                      adrusta jhatakudu    False     1971.0      NaN   \n",
       "1  a-ha: MTV Unplugged - Summer Solstice    False     2017.0      NaN   \n",
       "2                     aTypical Wednesday    False     2020.0      NaN   \n",
       "3                            abracadabra    False     2001.0      NaN   \n",
       "4                                  aMari    False     2016.0      NaN   \n",
       "5  an archive of one boy's sex education    False     2015.0      NaN   \n",
       "6                           abuela mambo    False     2012.0      NaN   \n",
       "7                    a.k.a. Cassius Clay    False     1970.0      NaN   \n",
       "8                                 aKasha    False     2018.0      NaN   \n",
       "9             are the green fields gone?    False        NaN      NaN   \n",
       "\n",
       "   runTimeMinutes  \n",
       "0             137  \n",
       "1             115  \n",
       "2              91  \n",
       "3              88  \n",
       "4              86  \n",
       "5              83  \n",
       "6              82  \n",
       "7              79  \n",
       "8              78  \n",
       "9              77  "
      ]
     },
     "execution_count": 226,
     "metadata": {},
     "output_type": "execute_result"
    }
   ],
   "source": [
    "%%bigquery\n",
    "SELECT *\n",
    "FROM datamart.movie_title\n",
    "WHERE primaryTitle LIKE 'a%'\n",
    "ORDER BY runTimeMinutes DESC\n",
    "LIMIT 10"
   ]
  },
  {
   "cell_type": "markdown",
   "id": "coated-helping",
   "metadata": {},
   "source": [
    "4/29/2021\n",
    "The below query groups together all records that have a run time greater than 100 minutes, by their run time. It returns the count of all the records as well as their run time ordered by the count in descending order, limited to 10 results."
   ]
  },
  {
   "cell_type": "code",
   "execution_count": 241,
   "id": "changed-therapy",
   "metadata": {},
   "outputs": [
    {
     "data": {
      "text/html": [
       "<div>\n",
       "<style scoped>\n",
       "    .dataframe tbody tr th:only-of-type {\n",
       "        vertical-align: middle;\n",
       "    }\n",
       "\n",
       "    .dataframe tbody tr th {\n",
       "        vertical-align: top;\n",
       "    }\n",
       "\n",
       "    .dataframe thead th {\n",
       "        text-align: right;\n",
       "    }\n",
       "</style>\n",
       "<table border=\"1\" class=\"dataframe\">\n",
       "  <thead>\n",
       "    <tr style=\"text-align: right;\">\n",
       "      <th></th>\n",
       "      <th>c</th>\n",
       "      <th>runTimeMinutes</th>\n",
       "    </tr>\n",
       "  </thead>\n",
       "  <tbody>\n",
       "    <tr>\n",
       "      <th>0</th>\n",
       "      <td>20001</td>\n",
       "      <td>120</td>\n",
       "    </tr>\n",
       "    <tr>\n",
       "      <th>1</th>\n",
       "      <td>8983</td>\n",
       "      <td>110</td>\n",
       "    </tr>\n",
       "    <tr>\n",
       "      <th>2</th>\n",
       "      <td>8480</td>\n",
       "      <td>105</td>\n",
       "    </tr>\n",
       "    <tr>\n",
       "      <th>3</th>\n",
       "      <td>5090</td>\n",
       "      <td>102</td>\n",
       "    </tr>\n",
       "    <tr>\n",
       "      <th>4</th>\n",
       "      <td>5026</td>\n",
       "      <td>115</td>\n",
       "    </tr>\n",
       "    <tr>\n",
       "      <th>5</th>\n",
       "      <td>4964</td>\n",
       "      <td>180</td>\n",
       "    </tr>\n",
       "    <tr>\n",
       "      <th>6</th>\n",
       "      <td>4573</td>\n",
       "      <td>104</td>\n",
       "    </tr>\n",
       "    <tr>\n",
       "      <th>7</th>\n",
       "      <td>4389</td>\n",
       "      <td>103</td>\n",
       "    </tr>\n",
       "    <tr>\n",
       "      <th>8</th>\n",
       "      <td>4376</td>\n",
       "      <td>101</td>\n",
       "    </tr>\n",
       "    <tr>\n",
       "      <th>9</th>\n",
       "      <td>3757</td>\n",
       "      <td>108</td>\n",
       "    </tr>\n",
       "  </tbody>\n",
       "</table>\n",
       "</div>"
      ],
      "text/plain": [
       "       c  runTimeMinutes\n",
       "0  20001             120\n",
       "1   8983             110\n",
       "2   8480             105\n",
       "3   5090             102\n",
       "4   5026             115\n",
       "5   4964             180\n",
       "6   4573             104\n",
       "7   4389             103\n",
       "8   4376             101\n",
       "9   3757             108"
      ]
     },
     "execution_count": 241,
     "metadata": {},
     "output_type": "execute_result"
    }
   ],
   "source": [
    "%%bigquery\n",
    "SELECT COUNT(*) c, runTimeMinutes\n",
    "FROM datamart.movie_title\n",
    "GROUP BY runTimeMinutes\n",
    "HAVING runTimeMinutes > 100\n",
    "ORDER BY c DESC\n",
    "LIMIT 10"
   ]
  },
  {
   "cell_type": "markdown",
   "id": "limited-piece",
   "metadata": {},
   "source": [
    "4/29/2021\n",
    "The below query returns all the columns for movies that have a run time longer than the average run time for the movie's title type. It is ordered by the release year in descending order and limited to 10 results."
   ]
  },
  {
   "cell_type": "code",
   "execution_count": 289,
   "id": "prescribed-theorem",
   "metadata": {},
   "outputs": [
    {
     "data": {
      "text/html": [
       "<div>\n",
       "<style scoped>\n",
       "    .dataframe tbody tr th:only-of-type {\n",
       "        vertical-align: middle;\n",
       "    }\n",
       "\n",
       "    .dataframe tbody tr th {\n",
       "        vertical-align: top;\n",
       "    }\n",
       "\n",
       "    .dataframe thead th {\n",
       "        text-align: right;\n",
       "    }\n",
       "</style>\n",
       "<table border=\"1\" class=\"dataframe\">\n",
       "  <thead>\n",
       "    <tr style=\"text-align: right;\">\n",
       "      <th></th>\n",
       "      <th>titleID</th>\n",
       "      <th>titleType</th>\n",
       "      <th>primaryTitle</th>\n",
       "      <th>originalTitle</th>\n",
       "      <th>isAdult</th>\n",
       "      <th>startYear</th>\n",
       "      <th>endYear</th>\n",
       "      <th>runTimeMinutes</th>\n",
       "    </tr>\n",
       "  </thead>\n",
       "  <tbody>\n",
       "    <tr>\n",
       "      <th>0</th>\n",
       "      <td>tt11208024</td>\n",
       "      <td>video</td>\n",
       "      <td>Probable Mystery: The Mystery Man</td>\n",
       "      <td>Probable Mystery: The Mystery Man</td>\n",
       "      <td>False</td>\n",
       "      <td>2026</td>\n",
       "      <td>NaN</td>\n",
       "      <td>165</td>\n",
       "    </tr>\n",
       "    <tr>\n",
       "      <th>1</th>\n",
       "      <td>tt14130154</td>\n",
       "      <td>movie</td>\n",
       "      <td>Caribou Village</td>\n",
       "      <td>Caribou Village</td>\n",
       "      <td>False</td>\n",
       "      <td>2025</td>\n",
       "      <td>NaN</td>\n",
       "      <td>125</td>\n",
       "    </tr>\n",
       "    <tr>\n",
       "      <th>2</th>\n",
       "      <td>tt3661636</td>\n",
       "      <td>movie</td>\n",
       "      <td>51 Christopher Street</td>\n",
       "      <td>51 Christopher Street</td>\n",
       "      <td>False</td>\n",
       "      <td>2024</td>\n",
       "      <td>NaN</td>\n",
       "      <td>120</td>\n",
       "    </tr>\n",
       "    <tr>\n",
       "      <th>3</th>\n",
       "      <td>tt13984144</td>\n",
       "      <td>movie</td>\n",
       "      <td>S.P.E.E.D.</td>\n",
       "      <td>S.P.E.E.D.</td>\n",
       "      <td>False</td>\n",
       "      <td>2023</td>\n",
       "      <td>NaN</td>\n",
       "      <td>240</td>\n",
       "    </tr>\n",
       "    <tr>\n",
       "      <th>4</th>\n",
       "      <td>tt10284138</td>\n",
       "      <td>movie</td>\n",
       "      <td>The Red Prince</td>\n",
       "      <td>El Principe Rojo</td>\n",
       "      <td>False</td>\n",
       "      <td>2023</td>\n",
       "      <td>NaN</td>\n",
       "      <td>120</td>\n",
       "    </tr>\n",
       "    <tr>\n",
       "      <th>5</th>\n",
       "      <td>tt12247022</td>\n",
       "      <td>movie</td>\n",
       "      <td>Carlo's American Dream</td>\n",
       "      <td>Carlo's American Dream</td>\n",
       "      <td>False</td>\n",
       "      <td>2023</td>\n",
       "      <td>NaN</td>\n",
       "      <td>110</td>\n",
       "    </tr>\n",
       "    <tr>\n",
       "      <th>6</th>\n",
       "      <td>tt13328802</td>\n",
       "      <td>movie</td>\n",
       "      <td>Shadows of Gandhi</td>\n",
       "      <td>Shadows of Gandhi</td>\n",
       "      <td>False</td>\n",
       "      <td>2023</td>\n",
       "      <td>NaN</td>\n",
       "      <td>90</td>\n",
       "    </tr>\n",
       "    <tr>\n",
       "      <th>7</th>\n",
       "      <td>tt12356138</td>\n",
       "      <td>movie</td>\n",
       "      <td>The Cursed Empire</td>\n",
       "      <td>The Cursed Empire</td>\n",
       "      <td>False</td>\n",
       "      <td>2023</td>\n",
       "      <td>NaN</td>\n",
       "      <td>150</td>\n",
       "    </tr>\n",
       "    <tr>\n",
       "      <th>8</th>\n",
       "      <td>tt13628848</td>\n",
       "      <td>movie</td>\n",
       "      <td>Santa's Silent Knight</td>\n",
       "      <td>Santa's Silent Knight</td>\n",
       "      <td>False</td>\n",
       "      <td>2023</td>\n",
       "      <td>NaN</td>\n",
       "      <td>93</td>\n",
       "    </tr>\n",
       "    <tr>\n",
       "      <th>9</th>\n",
       "      <td>tt13049668</td>\n",
       "      <td>movie</td>\n",
       "      <td>WOW: Way Out West</td>\n",
       "      <td>WOW: Way Out West</td>\n",
       "      <td>False</td>\n",
       "      <td>2023</td>\n",
       "      <td>NaN</td>\n",
       "      <td>90</td>\n",
       "    </tr>\n",
       "  </tbody>\n",
       "</table>\n",
       "</div>"
      ],
      "text/plain": [
       "      titleID titleType                       primaryTitle  \\\n",
       "0  tt11208024     video  Probable Mystery: The Mystery Man   \n",
       "1  tt14130154     movie                    Caribou Village   \n",
       "2   tt3661636     movie              51 Christopher Street   \n",
       "3  tt13984144     movie                         S.P.E.E.D.   \n",
       "4  tt10284138     movie                     The Red Prince   \n",
       "5  tt12247022     movie             Carlo's American Dream   \n",
       "6  tt13328802     movie                  Shadows of Gandhi   \n",
       "7  tt12356138     movie                  The Cursed Empire   \n",
       "8  tt13628848     movie              Santa's Silent Knight   \n",
       "9  tt13049668     movie                  WOW: Way Out West   \n",
       "\n",
       "                       originalTitle  isAdult  startYear  endYear  \\\n",
       "0  Probable Mystery: The Mystery Man    False       2026      NaN   \n",
       "1                    Caribou Village    False       2025      NaN   \n",
       "2              51 Christopher Street    False       2024      NaN   \n",
       "3                         S.P.E.E.D.    False       2023      NaN   \n",
       "4                   El Principe Rojo    False       2023      NaN   \n",
       "5             Carlo's American Dream    False       2023      NaN   \n",
       "6                  Shadows of Gandhi    False       2023      NaN   \n",
       "7                  The Cursed Empire    False       2023      NaN   \n",
       "8              Santa's Silent Knight    False       2023      NaN   \n",
       "9                  WOW: Way Out West    False       2023      NaN   \n",
       "\n",
       "   runTimeMinutes  \n",
       "0             165  \n",
       "1             125  \n",
       "2             120  \n",
       "3             240  \n",
       "4             120  \n",
       "5             110  \n",
       "6              90  \n",
       "7             150  \n",
       "8              93  \n",
       "9              90  "
      ]
     },
     "execution_count": 289,
     "metadata": {},
     "output_type": "execute_result"
    }
   ],
   "source": [
    "%%bigquery\n",
    "SELECT *\n",
    "FROM datamart.movie_title t1\n",
    "WHERE runTimeMinutes > (SELECT AVG(runTimeMinutes)\n",
    "                       FROM datamart.movie_title t2\n",
    "                       WHERE t1.titleType = t2.titleType)\n",
    "ORDER BY startYear DESC\n",
    "LIMIT 10"
   ]
  },
  {
   "cell_type": "markdown",
   "id": "criminal-continuity",
   "metadata": {},
   "source": [
    "4/29/2021\n",
    "The below query returns the title type, primary title, and run time for movies that have their primaryTitle the same as their original title. It limits the result to 10."
   ]
  },
  {
   "cell_type": "code",
   "execution_count": 285,
   "id": "informational-malta",
   "metadata": {},
   "outputs": [
    {
     "data": {
      "text/html": [
       "<div>\n",
       "<style scoped>\n",
       "    .dataframe tbody tr th:only-of-type {\n",
       "        vertical-align: middle;\n",
       "    }\n",
       "\n",
       "    .dataframe tbody tr th {\n",
       "        vertical-align: top;\n",
       "    }\n",
       "\n",
       "    .dataframe thead th {\n",
       "        text-align: right;\n",
       "    }\n",
       "</style>\n",
       "<table border=\"1\" class=\"dataframe\">\n",
       "  <thead>\n",
       "    <tr style=\"text-align: right;\">\n",
       "      <th></th>\n",
       "      <th>titleType</th>\n",
       "      <th>primaryTitle</th>\n",
       "      <th>runTimeMinutes</th>\n",
       "    </tr>\n",
       "  </thead>\n",
       "  <tbody>\n",
       "    <tr>\n",
       "      <th>0</th>\n",
       "      <td>None</td>\n",
       "      <td>Nagina</td>\n",
       "      <td>NaN</td>\n",
       "    </tr>\n",
       "    <tr>\n",
       "      <th>1</th>\n",
       "      <td>None</td>\n",
       "      <td>Meri Amanat</td>\n",
       "      <td>NaN</td>\n",
       "    </tr>\n",
       "    <tr>\n",
       "      <th>2</th>\n",
       "      <td>None</td>\n",
       "      <td>Bhai Jaan</td>\n",
       "      <td>NaN</td>\n",
       "    </tr>\n",
       "    <tr>\n",
       "      <th>3</th>\n",
       "      <td>None</td>\n",
       "      <td>The Guru</td>\n",
       "      <td>NaN</td>\n",
       "    </tr>\n",
       "    <tr>\n",
       "      <th>4</th>\n",
       "      <td>None</td>\n",
       "      <td>Hirji Kamdar</td>\n",
       "      <td>NaN</td>\n",
       "    </tr>\n",
       "    <tr>\n",
       "      <th>5</th>\n",
       "      <td>None</td>\n",
       "      <td>Alam Ara</td>\n",
       "      <td>NaN</td>\n",
       "    </tr>\n",
       "    <tr>\n",
       "      <th>6</th>\n",
       "      <td>videoGame</td>\n",
       "      <td>Moon Lander</td>\n",
       "      <td>NaN</td>\n",
       "    </tr>\n",
       "    <tr>\n",
       "      <th>7</th>\n",
       "      <td>tvSpecial</td>\n",
       "      <td>P 4 - Ein Film über Festivals</td>\n",
       "      <td>45.0</td>\n",
       "    </tr>\n",
       "    <tr>\n",
       "      <th>8</th>\n",
       "      <td>videoGame</td>\n",
       "      <td>Space Battle</td>\n",
       "      <td>NaN</td>\n",
       "    </tr>\n",
       "    <tr>\n",
       "      <th>9</th>\n",
       "      <td>tvSpecial</td>\n",
       "      <td>Johnny Cash i København</td>\n",
       "      <td>56.0</td>\n",
       "    </tr>\n",
       "  </tbody>\n",
       "</table>\n",
       "</div>"
      ],
      "text/plain": [
       "   titleType                   primaryTitle  runTimeMinutes\n",
       "0       None                         Nagina             NaN\n",
       "1       None                    Meri Amanat             NaN\n",
       "2       None                      Bhai Jaan             NaN\n",
       "3       None                       The Guru             NaN\n",
       "4       None                   Hirji Kamdar             NaN\n",
       "5       None                       Alam Ara             NaN\n",
       "6  videoGame                    Moon Lander             NaN\n",
       "7  tvSpecial  P 4 - Ein Film über Festivals            45.0\n",
       "8  videoGame                   Space Battle             NaN\n",
       "9  tvSpecial        Johnny Cash i København            56.0"
      ]
     },
     "execution_count": 285,
     "metadata": {},
     "output_type": "execute_result"
    }
   ],
   "source": [
    "%%bigquery\n",
    "SELECT titleType, primaryTitle, runTimeMinutes\n",
    "FROM (SELECT titleType, primaryTitle, runTimeMinutes\n",
    "     FROM datamart.movie_title t1\n",
    "     WHERE primaryTitle = originalTitle)\n",
    "LIMIT 10"
   ]
  },
  {
   "cell_type": "markdown",
   "id": "running-intermediate",
   "metadata": {},
   "source": [
    "4/29/2021\n",
    "The below query returns all of the columns for the movie (any medium for recording) with the highest run time in its title type (category)."
   ]
  },
  {
   "cell_type": "code",
   "execution_count": 295,
   "id": "declared-listing",
   "metadata": {},
   "outputs": [
    {
     "data": {
      "text/html": [
       "<div>\n",
       "<style scoped>\n",
       "    .dataframe tbody tr th:only-of-type {\n",
       "        vertical-align: middle;\n",
       "    }\n",
       "\n",
       "    .dataframe tbody tr th {\n",
       "        vertical-align: top;\n",
       "    }\n",
       "\n",
       "    .dataframe thead th {\n",
       "        text-align: right;\n",
       "    }\n",
       "</style>\n",
       "<table border=\"1\" class=\"dataframe\">\n",
       "  <thead>\n",
       "    <tr style=\"text-align: right;\">\n",
       "      <th></th>\n",
       "      <th>titleID</th>\n",
       "      <th>titleType</th>\n",
       "      <th>primaryTitle</th>\n",
       "      <th>originalTitle</th>\n",
       "      <th>isAdult</th>\n",
       "      <th>startYear</th>\n",
       "      <th>endYear</th>\n",
       "      <th>runTimeMinutes</th>\n",
       "    </tr>\n",
       "  </thead>\n",
       "  <tbody>\n",
       "    <tr>\n",
       "      <th>0</th>\n",
       "      <td>tt12095652</td>\n",
       "      <td>video</td>\n",
       "      <td>The Longest Video on YouTube: 596.5 Hours</td>\n",
       "      <td>The Longest Video on YouTube: 596.5 Hours</td>\n",
       "      <td>False</td>\n",
       "      <td>2011.0</td>\n",
       "      <td>NaN</td>\n",
       "      <td>35791</td>\n",
       "    </tr>\n",
       "    <tr>\n",
       "      <th>1</th>\n",
       "      <td>tt8273150</td>\n",
       "      <td>movie</td>\n",
       "      <td>Logistics</td>\n",
       "      <td>Logistics</td>\n",
       "      <td>False</td>\n",
       "      <td>2012.0</td>\n",
       "      <td>NaN</td>\n",
       "      <td>51420</td>\n",
       "    </tr>\n",
       "    <tr>\n",
       "      <th>2</th>\n",
       "      <td>tt11707418</td>\n",
       "      <td>tvMovie</td>\n",
       "      <td>Svalbard Minute by Minute</td>\n",
       "      <td>Svalbard minutt for minutt</td>\n",
       "      <td>False</td>\n",
       "      <td>2020.0</td>\n",
       "      <td>NaN</td>\n",
       "      <td>13319</td>\n",
       "    </tr>\n",
       "    <tr>\n",
       "      <th>3</th>\n",
       "      <td>tt0423682</td>\n",
       "      <td>tvMiniSeries</td>\n",
       "      <td>Kôya no yôjinbô</td>\n",
       "      <td>Kôya no yôjinbô</td>\n",
       "      <td>False</td>\n",
       "      <td>1973.0</td>\n",
       "      <td>NaN</td>\n",
       "      <td>1755</td>\n",
       "    </tr>\n",
       "    <tr>\n",
       "      <th>4</th>\n",
       "      <td>tt14354950</td>\n",
       "      <td>short</td>\n",
       "      <td>Black Hole</td>\n",
       "      <td>Black Hole</td>\n",
       "      <td>False</td>\n",
       "      <td>NaN</td>\n",
       "      <td>NaN</td>\n",
       "      <td>805</td>\n",
       "    </tr>\n",
       "    <tr>\n",
       "      <th>5</th>\n",
       "      <td>tt0466521</td>\n",
       "      <td>tvSeries</td>\n",
       "      <td>The Sharing Circle</td>\n",
       "      <td>The Sharing Circle</td>\n",
       "      <td>False</td>\n",
       "      <td>1991.0</td>\n",
       "      <td>2008.0</td>\n",
       "      <td>8400</td>\n",
       "    </tr>\n",
       "    <tr>\n",
       "      <th>6</th>\n",
       "      <td>tt5236758</td>\n",
       "      <td>tvShort</td>\n",
       "      <td>Bob's Broken Sleigh</td>\n",
       "      <td>Bob's Broken Sleigh</td>\n",
       "      <td>False</td>\n",
       "      <td>2015.0</td>\n",
       "      <td>NaN</td>\n",
       "      <td>46</td>\n",
       "    </tr>\n",
       "    <tr>\n",
       "      <th>7</th>\n",
       "      <td>tt7357138</td>\n",
       "      <td>tvSpecial</td>\n",
       "      <td>Katy Perry Live: Witness World Wide</td>\n",
       "      <td>Katy Perry Live: Witness World Wide</td>\n",
       "      <td>False</td>\n",
       "      <td>2017.0</td>\n",
       "      <td>NaN</td>\n",
       "      <td>5760</td>\n",
       "    </tr>\n",
       "    <tr>\n",
       "      <th>8</th>\n",
       "      <td>tt14384752</td>\n",
       "      <td>videoGame</td>\n",
       "      <td>Big Chungus</td>\n",
       "      <td>Big Chungus</td>\n",
       "      <td>False</td>\n",
       "      <td>2018.0</td>\n",
       "      <td>NaN</td>\n",
       "      <td>1987</td>\n",
       "    </tr>\n",
       "    <tr>\n",
       "      <th>9</th>\n",
       "      <td>tt13281504</td>\n",
       "      <td>tvEpisode</td>\n",
       "      <td>P3aksjonen 2020</td>\n",
       "      <td>P3aksjonen 2020</td>\n",
       "      <td>False</td>\n",
       "      <td>2020.0</td>\n",
       "      <td>NaN</td>\n",
       "      <td>6000</td>\n",
       "    </tr>\n",
       "  </tbody>\n",
       "</table>\n",
       "</div>"
      ],
      "text/plain": [
       "      titleID     titleType                               primaryTitle  \\\n",
       "0  tt12095652         video  The Longest Video on YouTube: 596.5 Hours   \n",
       "1   tt8273150         movie                                  Logistics   \n",
       "2  tt11707418       tvMovie                  Svalbard Minute by Minute   \n",
       "3   tt0423682  tvMiniSeries                            Kôya no yôjinbô   \n",
       "4  tt14354950         short                                 Black Hole   \n",
       "5   tt0466521      tvSeries                         The Sharing Circle   \n",
       "6   tt5236758       tvShort                        Bob's Broken Sleigh   \n",
       "7   tt7357138     tvSpecial        Katy Perry Live: Witness World Wide   \n",
       "8  tt14384752     videoGame                                Big Chungus   \n",
       "9  tt13281504     tvEpisode                            P3aksjonen 2020   \n",
       "\n",
       "                               originalTitle  isAdult  startYear  endYear  \\\n",
       "0  The Longest Video on YouTube: 596.5 Hours    False     2011.0      NaN   \n",
       "1                                  Logistics    False     2012.0      NaN   \n",
       "2                 Svalbard minutt for minutt    False     2020.0      NaN   \n",
       "3                            Kôya no yôjinbô    False     1973.0      NaN   \n",
       "4                                 Black Hole    False        NaN      NaN   \n",
       "5                         The Sharing Circle    False     1991.0   2008.0   \n",
       "6                        Bob's Broken Sleigh    False     2015.0      NaN   \n",
       "7        Katy Perry Live: Witness World Wide    False     2017.0      NaN   \n",
       "8                                Big Chungus    False     2018.0      NaN   \n",
       "9                            P3aksjonen 2020    False     2020.0      NaN   \n",
       "\n",
       "   runTimeMinutes  \n",
       "0           35791  \n",
       "1           51420  \n",
       "2           13319  \n",
       "3            1755  \n",
       "4             805  \n",
       "5            8400  \n",
       "6              46  \n",
       "7            5760  \n",
       "8            1987  \n",
       "9            6000  "
      ]
     },
     "execution_count": 295,
     "metadata": {},
     "output_type": "execute_result"
    }
   ],
   "source": [
    "%%bigquery\n",
    "SELECT *\n",
    "FROM datamart.movie_title t1\n",
    "WHERE runTimeMinutes = (SELECT MAX(runTimeMinutes)\n",
    "                       FROM datamart.movie_title t2\n",
    "                       WHERE t1.titleType = t2.titleType)"
   ]
  },
  {
   "cell_type": "code",
   "execution_count": 287,
   "id": "arranged-mobility",
   "metadata": {},
   "outputs": [],
   "source": [
    "dataset_id = \"reports\""
   ]
  },
  {
   "cell_type": "code",
   "execution_count": 288,
   "id": "operational-ownership",
   "metadata": {},
   "outputs": [
    {
     "name": "stdout",
     "output_type": "stream",
     "text": [
      "Dataset 'coastal-well-303101:reports' successfully created.\n"
     ]
    }
   ],
   "source": [
    "!bq --location=US mk --dataset {dataset_id}"
   ]
  },
  {
   "cell_type": "code",
   "execution_count": 297,
   "id": "statewide-group",
   "metadata": {},
   "outputs": [
    {
     "data": {
      "text/html": [
       "<div>\n",
       "<style scoped>\n",
       "    .dataframe tbody tr th:only-of-type {\n",
       "        vertical-align: middle;\n",
       "    }\n",
       "\n",
       "    .dataframe tbody tr th {\n",
       "        vertical-align: top;\n",
       "    }\n",
       "\n",
       "    .dataframe thead th {\n",
       "        text-align: right;\n",
       "    }\n",
       "</style>\n",
       "<table border=\"1\" class=\"dataframe\">\n",
       "  <thead>\n",
       "    <tr style=\"text-align: right;\">\n",
       "      <th></th>\n",
       "    </tr>\n",
       "  </thead>\n",
       "  <tbody>\n",
       "  </tbody>\n",
       "</table>\n",
       "</div>"
      ],
      "text/plain": [
       "Empty DataFrame\n",
       "Columns: []\n",
       "Index: []"
      ]
     },
     "execution_count": 297,
     "metadata": {},
     "output_type": "execute_result"
    }
   ],
   "source": [
    "%%bigquery\n",
    "CREATE VIEW reports.Longer_Than_Average_View AS\n",
    "    SELECT t1.*\n",
    "    FROM datamart.movie_title t1\n",
    "    WHERE runTimeMinutes > (SELECT AVG(runTimeMinutes)\n",
    "                           FROM datamart.movie_title t2\n",
    "                           WHERE t1.titleType = t2.titleType)\n",
    "    ORDER BY startYear DESC"
   ]
  },
  {
   "cell_type": "code",
   "execution_count": 298,
   "id": "loved-cleaning",
   "metadata": {},
   "outputs": [
    {
     "data": {
      "text/html": [
       "<div>\n",
       "<style scoped>\n",
       "    .dataframe tbody tr th:only-of-type {\n",
       "        vertical-align: middle;\n",
       "    }\n",
       "\n",
       "    .dataframe tbody tr th {\n",
       "        vertical-align: top;\n",
       "    }\n",
       "\n",
       "    .dataframe thead th {\n",
       "        text-align: right;\n",
       "    }\n",
       "</style>\n",
       "<table border=\"1\" class=\"dataframe\">\n",
       "  <thead>\n",
       "    <tr style=\"text-align: right;\">\n",
       "      <th></th>\n",
       "    </tr>\n",
       "  </thead>\n",
       "  <tbody>\n",
       "  </tbody>\n",
       "</table>\n",
       "</div>"
      ],
      "text/plain": [
       "Empty DataFrame\n",
       "Columns: []\n",
       "Index: []"
      ]
     },
     "execution_count": 298,
     "metadata": {},
     "output_type": "execute_result"
    }
   ],
   "source": [
    "%%bigquery\n",
    "CREATE VIEW reports.Longest_in_category AS\n",
    "    SELECT t1.*\n",
    "    FROM datamart.movie_title t1\n",
    "    WHERE runTimeMinutes = (SELECT MAX(runTimeMinutes)\n",
    "                           FROM datamart.movie_title t2\n",
    "                           WHERE t1.titleType = t2.titleType)"
   ]
  }
 ],
 "metadata": {
  "environment": {
   "name": "common-cpu.mnightly-2021-02-12-debian-10-test",
   "type": "gcloud",
   "uri": "gcr.io/deeplearning-platform-release/base-cpu:mnightly-2021-02-12-debian-10-test"
  },
  "kernelspec": {
   "display_name": "Python 3",
   "language": "python",
   "name": "python3"
  },
  "language_info": {
   "codemirror_mode": {
    "name": "ipython",
    "version": 3
   },
   "file_extension": ".py",
   "mimetype": "text/x-python",
   "name": "python",
   "nbconvert_exporter": "python",
   "pygments_lexer": "ipython3",
   "version": "3.7.9"
  }
 },
 "nbformat": 4,
 "nbformat_minor": 5
}
