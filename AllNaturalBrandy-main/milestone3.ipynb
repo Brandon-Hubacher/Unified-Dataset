{
 "cells": [
  {
   "cell_type": "code",
   "execution_count": 1,
   "id": "conceptual-chair",
   "metadata": {},
   "outputs": [
    {
     "data": {
      "application/javascript": [
       "\n",
       "        if (typeof window.interactive_beam_jquery == 'undefined') {\n",
       "          var jqueryScript = document.createElement('script');\n",
       "          jqueryScript.src = 'https://code.jquery.com/jquery-3.4.1.slim.min.js';\n",
       "          jqueryScript.type = 'text/javascript';\n",
       "          jqueryScript.onload = function() {\n",
       "            var datatableScript = document.createElement('script');\n",
       "            datatableScript.src = 'https://cdn.datatables.net/1.10.20/js/jquery.dataTables.min.js';\n",
       "            datatableScript.type = 'text/javascript';\n",
       "            datatableScript.onload = function() {\n",
       "              window.interactive_beam_jquery = jQuery.noConflict(true);\n",
       "              window.interactive_beam_jquery(document).ready(function($){\n",
       "                \n",
       "              });\n",
       "            }\n",
       "            document.head.appendChild(datatableScript);\n",
       "          };\n",
       "          document.head.appendChild(jqueryScript);\n",
       "        } else {\n",
       "          window.interactive_beam_jquery(document).ready(function($){\n",
       "            \n",
       "          });\n",
       "        }"
      ]
     },
     "metadata": {},
     "output_type": "display_data"
    },
    {
     "name": "stderr",
     "output_type": "stream",
     "text": [
      "/home/jupyter/venv/lib/python3.7/site-packages/apache_beam/io/gcp/bigquery.py:1936: BeamDeprecationWarning: options is deprecated since First stable release. References to <pipeline>.options will not be supported\n",
      "  temp_location = pcoll.pipeline.options.view_as(\n",
      "/home/jupyter/venv/lib/python3.7/site-packages/apache_beam/io/gcp/bigquery_file_loads.py:956: BeamDeprecationWarning: options is deprecated since First stable release. References to <pipeline>.options will not be supported\n",
      "  temp_location = p.options.view_as(GoogleCloudOptions).temp_location\n"
     ]
    }
   ],
   "source": [
    "import logging, re\n",
    "import apache_beam as beam\n",
    "from apache_beam.io import WriteToText\n",
    "from apache_beam.io.gcp.bigquery import ReadFromBigQuery, WriteToBigQuery\n",
    "\n",
    "    \n",
    "'''\n",
    "5/6/2021\n",
    "The following ParDo 'MakeHasGenre' function creates a junction table for the genres of a particular titleID.\n",
    "It takes in the titleID and list of genres as a string and creates a record for each unique titleID\n",
    "and genre combination. The FARM_FINGERPRINT method would not work for the creation of a unqiue id for genreID,\n",
    "so that was performed after in bigquery with MD5.\n",
    "'''\n",
    "class MakeHasGenre(beam.DoFn):\n",
    "    def process(self, element):\n",
    "        titleID = element['titleID']\n",
    "        genres = element['genres']\n",
    "        if genres is not None:\n",
    "            genres_list = genres.split(',')\n",
    "            records_list = []\n",
    "            for genre in genres_list:\n",
    "                record = {'titleID': titleID, 'genreID': genre}\n",
    "                records_list.append(record)\n",
    "            return records_list    \n",
    "        \n",
    "def run():\n",
    "    PROJECT_ID = 'coastal-well-303101'\n",
    "    BUCKET = 'gs://allnaturalbrandy2021/temp'\n",
    "    \n",
    "    options = {\n",
    "        'project': PROJECT_ID\n",
    "    }\n",
    "    \n",
    "    opts = beam.pipeline.PipelineOptions(flags=[], **options)\n",
    "    \n",
    "    p = beam.Pipeline('DirectRunner', options=opts)\n",
    "    \n",
    "    '''\n",
    "    couldn't limit to 500 results because it breaks referential integrity\n",
    "    '''\n",
    "    sql = 'SELECT titleID, genres FROM datamart.movie_title'\n",
    "    bq_source = ReadFromBigQuery(query=sql, use_standard_sql=True, gcs_location=BUCKET)\n",
    "    \n",
    "    query_results = p | 'Read from BQ' >> beam.io.Read(bq_source)\n",
    "    \n",
    "    has_genre_pcoll = query_results | 'Make Genres Junction Table' >> beam.ParDo(MakeHasGenre())\n",
    "    \n",
    "    has_genre_pcoll | 'has_genre results' >> WriteToText('output.txt')\n",
    "    \n",
    "    dataset_id = 'datamart'\n",
    "    table_id = PROJECT_ID + ':' + dataset_id + '.' + 'has_genre_Beam'\n",
    "    schema_id = 'titleID:STRING,genreID:STRING'\n",
    "    \n",
    "    has_genre_pcoll | 'Write has_genre to BQ' >> WriteToBigQuery(table=table_id, schema=schema_id, custom_gcs_temp_location=BUCKET)\n",
    "    \n",
    "    \n",
    "    result = p.run()\n",
    "    result.wait_until_finish()\n",
    "    \n",
    "if __name__ == '__main__':\n",
    "    logging.getLogger().setLevel(logging.ERROR)\n",
    "    run()"
   ]
  },
  {
   "cell_type": "code",
   "execution_count": 2,
   "id": "seventh-ecuador",
   "metadata": {},
   "outputs": [],
   "source": [
    "import logging, re\n",
    "import apache_beam as beam\n",
    "from apache_beam.io import WriteToText\n",
    "from apache_beam.io.gcp.bigquery import ReadFromBigQuery, WriteToBigQuery\n",
    "\n",
    "\n",
    "'''\n",
    "5/6/2021\n",
    "The following ParDo 'MakeGenre' function takes in a dictionary containing a genre from the previously made has_genre_Beam table.\n",
    "It simply creates a record of genreID and genre and returns it.\n",
    "The FARM_FINGERPRINT method would not work for the creation of a unqiue id for genreID,\n",
    "so that was performed after in bigquery with MD5.\n",
    "'''\n",
    "class MakeGenre(beam.DoFn):\n",
    "    def process(self, element):\n",
    "        g = element['genreID']\n",
    "        if g is not None:\n",
    "            record = {'genreID': g, 'genre': g}\n",
    "            return [record]\n",
    "\n",
    "\n",
    "def run():\n",
    "    PROJECT_ID = 'coastal-well-303101'\n",
    "    BUCKET = 'gs://allnaturalbrandy2021/temp'\n",
    "    \n",
    "    options = {\n",
    "        'project': PROJECT_ID\n",
    "    }\n",
    "    \n",
    "    opts = beam.pipeline.PipelineOptions(flags=[], **options)\n",
    "    \n",
    "    p = beam.Pipeline('DirectRunner', options=opts)\n",
    "    \n",
    "    '''\n",
    "    couldn't limit to 500 results because it breaks referential integrity\n",
    "    '''\n",
    "    sql = 'SELECT DISTINCT genreID FROM datamart.has_genre_Beam'\n",
    "    bq_source = ReadFromBigQuery(query=sql, use_standard_sql=True, gcs_location=BUCKET)\n",
    "    \n",
    "    query_results = p | 'Read from BQ' >> beam.io.Read(bq_source)\n",
    "    \n",
    "    genre_pcoll = query_results | 'Make Genre Table' >> beam.ParDo(MakeGenre())\n",
    "    \n",
    "    genre_pcoll | 'genre results' >> WriteToText('output.txt')\n",
    "\n",
    "    dataset_id = 'datamart'\n",
    "    table_id = PROJECT_ID + ':' + dataset_id + '.' + 'genre_Beam'\n",
    "    schema_id = 'genreID:STRING,genre:STRING'\n",
    "    \n",
    "    genre_pcoll | 'Write genre to BQ' >> WriteToBigQuery(table=table_id, schema=schema_id, custom_gcs_temp_location=BUCKET)\n",
    "    \n",
    "    \n",
    "    result = p.run()\n",
    "    result.wait_until_finish()\n",
    "    \n",
    "if __name__ == '__main__':\n",
    "    logging.getLogger().setLevel(logging.ERROR)\n",
    "    run()"
   ]
  },
  {
   "cell_type": "markdown",
   "id": "tight-atlas",
   "metadata": {},
   "source": [
    "5/6/2021\n",
    "Making the unique genreID for the has_genre table in bigquery because the FARM_FINGERPRINT method wasn't working in apache beam"
   ]
  },
  {
   "cell_type": "code",
   "execution_count": 1,
   "id": "political-vaccine",
   "metadata": {},
   "outputs": [
    {
     "data": {
      "text/html": [
       "<div>\n",
       "<style scoped>\n",
       "    .dataframe tbody tr th:only-of-type {\n",
       "        vertical-align: middle;\n",
       "    }\n",
       "\n",
       "    .dataframe tbody tr th {\n",
       "        vertical-align: top;\n",
       "    }\n",
       "\n",
       "    .dataframe thead th {\n",
       "        text-align: right;\n",
       "    }\n",
       "</style>\n",
       "<table border=\"1\" class=\"dataframe\">\n",
       "  <thead>\n",
       "    <tr style=\"text-align: right;\">\n",
       "      <th></th>\n",
       "    </tr>\n",
       "  </thead>\n",
       "  <tbody>\n",
       "  </tbody>\n",
       "</table>\n",
       "</div>"
      ],
      "text/plain": [
       "Empty DataFrame\n",
       "Columns: []\n",
       "Index: []"
      ]
     },
     "execution_count": 1,
     "metadata": {},
     "output_type": "execute_result"
    }
   ],
   "source": [
    "%%bigquery\n",
    "UPDATE datamart.has_genre_Beam SET genreID = TO_BASE64(MD5(genreID))\n",
    "WHERE genreID is NOT NULL"
   ]
  },
  {
   "cell_type": "code",
   "execution_count": 2,
   "id": "relevant-cheat",
   "metadata": {},
   "outputs": [
    {
     "data": {
      "text/html": [
       "<div>\n",
       "<style scoped>\n",
       "    .dataframe tbody tr th:only-of-type {\n",
       "        vertical-align: middle;\n",
       "    }\n",
       "\n",
       "    .dataframe tbody tr th {\n",
       "        vertical-align: top;\n",
       "    }\n",
       "\n",
       "    .dataframe thead th {\n",
       "        text-align: right;\n",
       "    }\n",
       "</style>\n",
       "<table border=\"1\" class=\"dataframe\">\n",
       "  <thead>\n",
       "    <tr style=\"text-align: right;\">\n",
       "      <th></th>\n",
       "      <th>titleID</th>\n",
       "      <th>genreID</th>\n",
       "    </tr>\n",
       "  </thead>\n",
       "  <tbody>\n",
       "    <tr>\n",
       "      <th>0</th>\n",
       "      <td>tt7790104</td>\n",
       "      <td>q0sUgssro/Huf9kgHIofrQ==</td>\n",
       "    </tr>\n",
       "    <tr>\n",
       "      <th>1</th>\n",
       "      <td>tt4661864</td>\n",
       "      <td>q0sUgssro/Huf9kgHIofrQ==</td>\n",
       "    </tr>\n",
       "    <tr>\n",
       "      <th>2</th>\n",
       "      <td>tt13674766</td>\n",
       "      <td>l6CehafhsQNAnvyT76T+0Q==</td>\n",
       "    </tr>\n",
       "    <tr>\n",
       "      <th>3</th>\n",
       "      <td>tt0047942</td>\n",
       "      <td>Be/XJhWFrYDFZd0WPdJQZQ==</td>\n",
       "    </tr>\n",
       "    <tr>\n",
       "      <th>4</th>\n",
       "      <td>tt8348492</td>\n",
       "      <td>eatwvuFWL8cO/I7gp9+Z3g==</td>\n",
       "    </tr>\n",
       "    <tr>\n",
       "      <th>5</th>\n",
       "      <td>tt0200437</td>\n",
       "      <td>eatwvuFWL8cO/I7gp9+Z3g==</td>\n",
       "    </tr>\n",
       "    <tr>\n",
       "      <th>6</th>\n",
       "      <td>tt7444348</td>\n",
       "      <td>eatwvuFWL8cO/I7gp9+Z3g==</td>\n",
       "    </tr>\n",
       "    <tr>\n",
       "      <th>7</th>\n",
       "      <td>tt1062254</td>\n",
       "      <td>eatwvuFWL8cO/I7gp9+Z3g==</td>\n",
       "    </tr>\n",
       "    <tr>\n",
       "      <th>8</th>\n",
       "      <td>tt0650734</td>\n",
       "      <td>l6CehafhsQNAnvyT76T+0Q==</td>\n",
       "    </tr>\n",
       "    <tr>\n",
       "      <th>9</th>\n",
       "      <td>tt6703230</td>\n",
       "      <td>eatwvuFWL8cO/I7gp9+Z3g==</td>\n",
       "    </tr>\n",
       "  </tbody>\n",
       "</table>\n",
       "</div>"
      ],
      "text/plain": [
       "      titleID                   genreID\n",
       "0   tt7790104  q0sUgssro/Huf9kgHIofrQ==\n",
       "1   tt4661864  q0sUgssro/Huf9kgHIofrQ==\n",
       "2  tt13674766  l6CehafhsQNAnvyT76T+0Q==\n",
       "3   tt0047942  Be/XJhWFrYDFZd0WPdJQZQ==\n",
       "4   tt8348492  eatwvuFWL8cO/I7gp9+Z3g==\n",
       "5   tt0200437  eatwvuFWL8cO/I7gp9+Z3g==\n",
       "6   tt7444348  eatwvuFWL8cO/I7gp9+Z3g==\n",
       "7   tt1062254  eatwvuFWL8cO/I7gp9+Z3g==\n",
       "8   tt0650734  l6CehafhsQNAnvyT76T+0Q==\n",
       "9   tt6703230  eatwvuFWL8cO/I7gp9+Z3g=="
      ]
     },
     "execution_count": 2,
     "metadata": {},
     "output_type": "execute_result"
    }
   ],
   "source": [
    "%%bigquery\n",
    "SELECT *\n",
    "FROM datamart.has_genre_Beam\n",
    "LIMIT 10"
   ]
  },
  {
   "cell_type": "markdown",
   "id": "numerous-service",
   "metadata": {},
   "source": [
    "5/6/2021\n",
    "Making the unique genreID for the genre table in bigquery because the FARM_FINGERPRINT method wasn't working in apache beam"
   ]
  },
  {
   "cell_type": "code",
   "execution_count": 3,
   "id": "happy-gazette",
   "metadata": {},
   "outputs": [
    {
     "data": {
      "text/html": [
       "<div>\n",
       "<style scoped>\n",
       "    .dataframe tbody tr th:only-of-type {\n",
       "        vertical-align: middle;\n",
       "    }\n",
       "\n",
       "    .dataframe tbody tr th {\n",
       "        vertical-align: top;\n",
       "    }\n",
       "\n",
       "    .dataframe thead th {\n",
       "        text-align: right;\n",
       "    }\n",
       "</style>\n",
       "<table border=\"1\" class=\"dataframe\">\n",
       "  <thead>\n",
       "    <tr style=\"text-align: right;\">\n",
       "      <th></th>\n",
       "    </tr>\n",
       "  </thead>\n",
       "  <tbody>\n",
       "  </tbody>\n",
       "</table>\n",
       "</div>"
      ],
      "text/plain": [
       "Empty DataFrame\n",
       "Columns: []\n",
       "Index: []"
      ]
     },
     "execution_count": 3,
     "metadata": {},
     "output_type": "execute_result"
    }
   ],
   "source": [
    "%%bigquery\n",
    "UPDATE datamart.genre_Beam SET genreID = TO_BASE64(MD5(genreID))\n",
    "WHERE genreID is NOT NULL"
   ]
  },
  {
   "cell_type": "code",
   "execution_count": 4,
   "id": "designed-sense",
   "metadata": {},
   "outputs": [
    {
     "data": {
      "text/html": [
       "<div>\n",
       "<style scoped>\n",
       "    .dataframe tbody tr th:only-of-type {\n",
       "        vertical-align: middle;\n",
       "    }\n",
       "\n",
       "    .dataframe tbody tr th {\n",
       "        vertical-align: top;\n",
       "    }\n",
       "\n",
       "    .dataframe thead th {\n",
       "        text-align: right;\n",
       "    }\n",
       "</style>\n",
       "<table border=\"1\" class=\"dataframe\">\n",
       "  <thead>\n",
       "    <tr style=\"text-align: right;\">\n",
       "      <th></th>\n",
       "      <th>genreID</th>\n",
       "      <th>genre</th>\n",
       "    </tr>\n",
       "  </thead>\n",
       "  <tbody>\n",
       "    <tr>\n",
       "      <th>0</th>\n",
       "      <td>ubugNXvD+okp0UsfNKXjXg==</td>\n",
       "      <td>religious</td>\n",
       "    </tr>\n",
       "    <tr>\n",
       "      <th>1</th>\n",
       "      <td>wmKxjmFKXvQVHQbm9Sh+Ug==</td>\n",
       "      <td>Romance</td>\n",
       "    </tr>\n",
       "    <tr>\n",
       "      <th>2</th>\n",
       "      <td>dwsWjmDT3e0AzmDdUe2C6Q==</td>\n",
       "      <td>Period action/adventure</td>\n",
       "    </tr>\n",
       "    <tr>\n",
       "      <th>3</th>\n",
       "      <td>zvxPfLyMNHYuD3ZwPn4XTg==</td>\n",
       "      <td>Family</td>\n",
       "    </tr>\n",
       "    <tr>\n",
       "      <th>4</th>\n",
       "      <td>bpOlt3LkfC86g0DTAg8/TA==</td>\n",
       "      <td>Drama</td>\n",
       "    </tr>\n",
       "    <tr>\n",
       "      <th>5</th>\n",
       "      <td>oYPlJ7+wT1YsIcnGL9EwXQ==</td>\n",
       "      <td>erotic</td>\n",
       "    </tr>\n",
       "    <tr>\n",
       "      <th>6</th>\n",
       "      <td>kHwdl0nxCYp9LobhCIvBLA==</td>\n",
       "      <td>swashbuckling</td>\n",
       "    </tr>\n",
       "    <tr>\n",
       "      <th>7</th>\n",
       "      <td>xA61FV83ph39653iHaHxUQ==</td>\n",
       "      <td>sentiment</td>\n",
       "    </tr>\n",
       "    <tr>\n",
       "      <th>8</th>\n",
       "      <td>IlCZgpXdTHK5xs9VSv7vDg==</td>\n",
       "      <td>folklore</td>\n",
       "    </tr>\n",
       "    <tr>\n",
       "      <th>9</th>\n",
       "      <td>EUHOZPJr3pXclvl6TMranA==</td>\n",
       "      <td>Biographical Drama</td>\n",
       "    </tr>\n",
       "  </tbody>\n",
       "</table>\n",
       "</div>"
      ],
      "text/plain": [
       "                    genreID                    genre\n",
       "0  ubugNXvD+okp0UsfNKXjXg==                religious\n",
       "1  wmKxjmFKXvQVHQbm9Sh+Ug==                  Romance\n",
       "2  dwsWjmDT3e0AzmDdUe2C6Q==  Period action/adventure\n",
       "3  zvxPfLyMNHYuD3ZwPn4XTg==                   Family\n",
       "4  bpOlt3LkfC86g0DTAg8/TA==                    Drama\n",
       "5  oYPlJ7+wT1YsIcnGL9EwXQ==                   erotic\n",
       "6  kHwdl0nxCYp9LobhCIvBLA==            swashbuckling\n",
       "7  xA61FV83ph39653iHaHxUQ==                sentiment\n",
       "8  IlCZgpXdTHK5xs9VSv7vDg==                 folklore\n",
       "9  EUHOZPJr3pXclvl6TMranA==       Biographical Drama"
      ]
     },
     "execution_count": 4,
     "metadata": {},
     "output_type": "execute_result"
    }
   ],
   "source": [
    "%%bigquery\n",
    "SELECT *\n",
    "FROM datamart.genre_Beam\n",
    "LIMIT 10"
   ]
  },
  {
   "cell_type": "code",
   "execution_count": 5,
   "id": "utility-empty",
   "metadata": {},
   "outputs": [
    {
     "data": {
      "text/html": [
       "<div>\n",
       "<style scoped>\n",
       "    .dataframe tbody tr th:only-of-type {\n",
       "        vertical-align: middle;\n",
       "    }\n",
       "\n",
       "    .dataframe tbody tr th {\n",
       "        vertical-align: top;\n",
       "    }\n",
       "\n",
       "    .dataframe thead th {\n",
       "        text-align: right;\n",
       "    }\n",
       "</style>\n",
       "<table border=\"1\" class=\"dataframe\">\n",
       "  <thead>\n",
       "    <tr style=\"text-align: right;\">\n",
       "      <th></th>\n",
       "      <th>f0_</th>\n",
       "      <th>f1_</th>\n",
       "    </tr>\n",
       "  </thead>\n",
       "  <tbody>\n",
       "    <tr>\n",
       "      <th>0</th>\n",
       "      <td>7821715</td>\n",
       "      <td>7821715</td>\n",
       "    </tr>\n",
       "  </tbody>\n",
       "</table>\n",
       "</div>"
      ],
      "text/plain": [
       "       f0_      f1_\n",
       "0  7821715  7821715"
      ]
     },
     "execution_count": 5,
     "metadata": {},
     "output_type": "execute_result"
    }
   ],
   "source": [
    "%%bigquery\n",
    "SELECT COUNT(*), COUNT(DISTINCT titleID)\n",
    "FROM datamart.movie_title"
   ]
  },
  {
   "cell_type": "code",
   "execution_count": 6,
   "id": "economic-apparatus",
   "metadata": {},
   "outputs": [
    {
     "data": {
      "text/html": [
       "<div>\n",
       "<style scoped>\n",
       "    .dataframe tbody tr th:only-of-type {\n",
       "        vertical-align: middle;\n",
       "    }\n",
       "\n",
       "    .dataframe tbody tr th {\n",
       "        vertical-align: top;\n",
       "    }\n",
       "\n",
       "    .dataframe thead th {\n",
       "        text-align: right;\n",
       "    }\n",
       "</style>\n",
       "<table border=\"1\" class=\"dataframe\">\n",
       "  <thead>\n",
       "    <tr style=\"text-align: right;\">\n",
       "      <th></th>\n",
       "      <th>titleID</th>\n",
       "      <th>titleType</th>\n",
       "      <th>primaryTitle</th>\n",
       "      <th>originalTitle</th>\n",
       "      <th>isAdult</th>\n",
       "      <th>startYear</th>\n",
       "      <th>endYear</th>\n",
       "      <th>runTimeMinutes</th>\n",
       "      <th>genres</th>\n",
       "      <th>titleID_1</th>\n",
       "      <th>genreID</th>\n",
       "    </tr>\n",
       "  </thead>\n",
       "  <tbody>\n",
       "  </tbody>\n",
       "</table>\n",
       "</div>"
      ],
      "text/plain": [
       "Empty DataFrame\n",
       "Columns: [titleID, titleType, primaryTitle, originalTitle, isAdult, startYear, endYear, runTimeMinutes, genres, titleID_1, genreID]\n",
       "Index: []"
      ]
     },
     "execution_count": 6,
     "metadata": {},
     "output_type": "execute_result"
    }
   ],
   "source": [
    "%%bigquery\n",
    "SELECT *\n",
    "FROM datamart.movie_title AS m\n",
    "FULL OUTER JOIN datamart.has_genre_Beam AS hg\n",
    "ON m.titleID = hg.titleID\n",
    "WHERE m.titleID IS NULL"
   ]
  },
  {
   "cell_type": "code",
   "execution_count": 7,
   "id": "oriental-ribbon",
   "metadata": {},
   "outputs": [
    {
     "data": {
      "text/html": [
       "<div>\n",
       "<style scoped>\n",
       "    .dataframe tbody tr th:only-of-type {\n",
       "        vertical-align: middle;\n",
       "    }\n",
       "\n",
       "    .dataframe tbody tr th {\n",
       "        vertical-align: top;\n",
       "    }\n",
       "\n",
       "    .dataframe thead th {\n",
       "        text-align: right;\n",
       "    }\n",
       "</style>\n",
       "<table border=\"1\" class=\"dataframe\">\n",
       "  <thead>\n",
       "    <tr style=\"text-align: right;\">\n",
       "      <th></th>\n",
       "      <th>genreID</th>\n",
       "      <th>has_genreID</th>\n",
       "    </tr>\n",
       "  </thead>\n",
       "  <tbody>\n",
       "  </tbody>\n",
       "</table>\n",
       "</div>"
      ],
      "text/plain": [
       "Empty DataFrame\n",
       "Columns: [genreID, has_genreID]\n",
       "Index: []"
      ]
     },
     "execution_count": 7,
     "metadata": {},
     "output_type": "execute_result"
    }
   ],
   "source": [
    "%%bigquery\n",
    "SELECT g.genreID AS genreID, hg.genreID AS has_genreID\n",
    "FROM datamart.genre_Beam AS g\n",
    "FULL OUTER JOIN datamart.has_genre_Beam AS hg\n",
    "ON g.genreID = hg.genreID\n",
    "WHERE g.genreID IS NULL"
   ]
  },
  {
   "cell_type": "code",
   "execution_count": 8,
   "id": "continuing-haven",
   "metadata": {},
   "outputs": [
    {
     "data": {
      "text/html": [
       "<div>\n",
       "<style scoped>\n",
       "    .dataframe tbody tr th:only-of-type {\n",
       "        vertical-align: middle;\n",
       "    }\n",
       "\n",
       "    .dataframe tbody tr th {\n",
       "        vertical-align: top;\n",
       "    }\n",
       "\n",
       "    .dataframe thead th {\n",
       "        text-align: right;\n",
       "    }\n",
       "</style>\n",
       "<table border=\"1\" class=\"dataframe\">\n",
       "  <thead>\n",
       "    <tr style=\"text-align: right;\">\n",
       "      <th></th>\n",
       "      <th>f0_</th>\n",
       "      <th>f1_</th>\n",
       "    </tr>\n",
       "  </thead>\n",
       "  <tbody>\n",
       "    <tr>\n",
       "      <th>0</th>\n",
       "      <td>12421361</td>\n",
       "      <td>12421361</td>\n",
       "    </tr>\n",
       "  </tbody>\n",
       "</table>\n",
       "</div>"
      ],
      "text/plain": [
       "        f0_       f1_\n",
       "0  12421361  12421361"
      ]
     },
     "execution_count": 8,
     "metadata": {},
     "output_type": "execute_result"
    }
   ],
   "source": [
    "%%bigquery\n",
    "SELECT COUNT(*), COUNT(DISTINCT titleID || genreID)\n",
    "FROM datamart.has_genre_Beam"
   ]
  },
  {
   "cell_type": "code",
   "execution_count": 9,
   "id": "younger-sport",
   "metadata": {},
   "outputs": [
    {
     "data": {
      "text/html": [
       "<div>\n",
       "<style scoped>\n",
       "    .dataframe tbody tr th:only-of-type {\n",
       "        vertical-align: middle;\n",
       "    }\n",
       "\n",
       "    .dataframe tbody tr th {\n",
       "        vertical-align: top;\n",
       "    }\n",
       "\n",
       "    .dataframe thead th {\n",
       "        text-align: right;\n",
       "    }\n",
       "</style>\n",
       "<table border=\"1\" class=\"dataframe\">\n",
       "  <thead>\n",
       "    <tr style=\"text-align: right;\">\n",
       "      <th></th>\n",
       "      <th>f0_</th>\n",
       "      <th>f1_</th>\n",
       "    </tr>\n",
       "  </thead>\n",
       "  <tbody>\n",
       "    <tr>\n",
       "      <th>0</th>\n",
       "      <td>234</td>\n",
       "      <td>234</td>\n",
       "    </tr>\n",
       "  </tbody>\n",
       "</table>\n",
       "</div>"
      ],
      "text/plain": [
       "   f0_  f1_\n",
       "0  234  234"
      ]
     },
     "execution_count": 9,
     "metadata": {},
     "output_type": "execute_result"
    }
   ],
   "source": [
    "%%bigquery\n",
    "SELECT COUNT(*), COUNT(DISTINCT genreID)\n",
    "FROM datamart.genre_Beam"
   ]
  },
  {
   "cell_type": "code",
   "execution_count": null,
   "id": "focal-maryland",
   "metadata": {},
   "outputs": [],
   "source": []
  }
 ],
 "metadata": {
  "environment": {
   "name": "common-cpu.mnightly-2021-02-12-debian-10-test",
   "type": "gcloud",
   "uri": "gcr.io/deeplearning-platform-release/base-cpu:mnightly-2021-02-12-debian-10-test"
  },
  "kernelspec": {
   "display_name": "Python 3",
   "language": "python",
   "name": "python3"
  },
  "language_info": {
   "codemirror_mode": {
    "name": "ipython",
    "version": 3
   },
   "file_extension": ".py",
   "mimetype": "text/x-python",
   "name": "python",
   "nbconvert_exporter": "python",
   "pygments_lexer": "ipython3",
   "version": "3.7.9"
  }
 },
 "nbformat": 4,
 "nbformat_minor": 5
}
