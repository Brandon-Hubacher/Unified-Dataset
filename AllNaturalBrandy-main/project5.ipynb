{
 "cells": [
  {
   "cell_type": "code",
   "execution_count": 3,
   "id": "moderate-tattoo",
   "metadata": {},
   "outputs": [
    {
     "name": "stdout",
     "output_type": "stream",
     "text": [
      "309370\n"
     ]
    }
   ],
   "source": [
    "!mongo open_food --quiet --eval 'db.products.count()'"
   ]
  },
  {
   "cell_type": "code",
   "execution_count": 46,
   "id": "simple-convert",
   "metadata": {},
   "outputs": [
    {
     "name": "stdout",
     "output_type": "stream",
     "text": [
      "{ \"_id\" : \"0071720007105\", \"product_name\" : \"Tootsie Roll\" }\n"
     ]
    }
   ],
   "source": [
    "!mongo open_food --quiet --eval 'db.products.find({categories: \"Snacks\\, Sweet snacks\\, Confectioneries\\, Candies, Chews\"}, {_id: 1, product_name: 1}).pretty()'"
   ]
  },
  {
   "cell_type": "code",
   "execution_count": 7,
   "id": "mexican-ordinance",
   "metadata": {},
   "outputs": [
    {
     "name": "stdout",
     "output_type": "stream",
     "text": [
      "uncaught exception: SyntaxError: illegal character :\n",
      "@(shell eval):1:18\n",
      "exiting with code -4\n"
     ]
    }
   ],
   "source": [
    "!mongo open_food --quiet --eval 'db.products.find({“categories”: 'Snacks, Sweet snacks, Confectioneries, Candies, Chews'}, {\"_id\": 1, \"product_name\": 1}).pretty()'"
   ]
  },
  {
   "cell_type": "code",
   "execution_count": 12,
   "id": "elementary-sphere",
   "metadata": {},
   "outputs": [
    {
     "name": "stdout",
     "output_type": "stream",
     "text": [
      "{\n",
      "\t\"_id\" : \"0852909003299\",\n",
      "\t\"product_name\" : \"Almondmilk\",\n",
      "\t\"code\" : \"0852909003299\"\n",
      "}\n",
      "{\n",
      "\t\"_id\" : \"0840423102055\",\n",
      "\t\"code\" : \"0840423102055\",\n",
      "\t\"product_name\" : \"Garlic wine pasta with chicken meatballs with whole wheat rotini, white beans, and greens, cooked in avocado oil, and topped with parmesan and mozzarella, garlic wine pasta with chicken meatballs\"\n",
      "}\n"
     ]
    }
   ],
   "source": [
    "!mongo open_food --quiet --eval 'db.products.find({\"last_modified_t\": {\"$gte\": 1601856000}}, {\"_id\": 1, \"code\": 1, \"product_name\": 1}).pretty()'"
   ]
  },
  {
   "cell_type": "code",
   "execution_count": 17,
   "id": "palestinian-paper",
   "metadata": {},
   "outputs": [
    {
     "name": "stdout",
     "output_type": "stream",
     "text": [
      "115\n"
     ]
    }
   ],
   "source": [
    "!mongo open_food --quiet --eval 'db.products.find({\"packaging\": \"Plastic\"}).count()'"
   ]
  },
  {
   "cell_type": "code",
   "execution_count": 18,
   "id": "rubber-milton",
   "metadata": {},
   "outputs": [
    {
     "name": "stdout",
     "output_type": "stream",
     "text": [
      "{\n",
      "\t\"_id\" : \"0099482455859\",\n",
      "\t\"creator\" : \"usda-ndb-import\",\n",
      "\t\"brands\" : \"365 Everyday Value,Whole Foods Market  Inc.\",\n",
      "\t\"code\" : \"0099482455859\",\n",
      "\t\"product_name\" : \"Whole Wheat Bread\"\n",
      "}\n"
     ]
    }
   ],
   "source": [
    "!mongo open_food --quiet --eval 'db.products.find({\"manufacturing_places\": \"Austin, TX\", \"stores\": \"Whole Foods\"}, {\"_id\": 1, \"code\": 1, \"creator\": 1, \"product_name\": 1, \"brands\": 1}).sort({\"product_name\": 1}).pretty()'"
   ]
  },
  {
   "cell_type": "code",
   "execution_count": 20,
   "id": "outstanding-advocacy",
   "metadata": {},
   "outputs": [
    {
     "name": "stdout",
     "output_type": "stream",
     "text": [
      "{\n",
      "\t\"_id\" : \"00547352\",\n",
      "\t\"product_name\" : \"Organic roasted vegetable pizza\",\n",
      "\t\"creator\" : \"djfkzz\",\n",
      "\t\"brands\" : \"Trader Joes\"\n",
      "}\n",
      "{\n",
      "\t\"_id\" : \"00556903\",\n",
      "\t\"brands\" : \"Trader Joes\",\n",
      "\t\"creator\" : \"djfkzz\",\n",
      "\t\"product_name\" : \"Thai Sweet Chili Veggie Burger\"\n",
      "}\n",
      "{\n",
      "\t\"_id\" : \"00508285\",\n",
      "\t\"product_name\" : \"Trader joes, sriracha sauce\",\n",
      "\t\"brands\" : \"Trader Joes\",\n",
      "\t\"creator\" : \"usda-ndb-import\"\n",
      "}\n"
     ]
    }
   ],
   "source": [
    "!mongo open_food --quiet --eval 'db.products.find({\"brands\": \"Trader Joes\", \"product_name\": {$ne:null}}, {\"_id\": 1, \"creator\": 1, \"product_name\": 1, \"brands\": 1}).sort({\"product_name\": 1}).pretty()'"
   ]
  },
  {
   "cell_type": "code",
   "execution_count": 29,
   "id": "palestinian-saying",
   "metadata": {},
   "outputs": [
    {
     "name": "stdout",
     "output_type": "stream",
     "text": [
      "{\n",
      "\t\"_id\" : \"0040000265252\",\n",
      "\t\"brands\" : \"Mars\",\n",
      "\t\"product_name\" : \"Almond & dark chocolate\"\n",
      "}\n",
      "{ \"_id\" : \"0040000422068\", \"brands\" : \"mars\", \"product_name\" : \"BAR\" }\n",
      "{\n",
      "\t\"_id\" : \"0047677386518\",\n",
      "\t\"brands\" : \"m&m's\",\n",
      "\t\"product_name\" : \"M&m's, light ice cream, chocolate\"\n",
      "}\n",
      "{\n",
      "\t\"_id\" : \"0044000029524\",\n",
      "\t\"product_name\" : \"Nabisco oreo cookies double stuf 1x4.1 oz\",\n",
      "\t\"brands\" : \"oreo\"\n",
      "}\n",
      "{\n",
      "\t\"_id\" : \"04005108\",\n",
      "\t\"product_name\" : \"Real fruit juice!\",\n",
      "\t\"brands\" : \"starburst\"\n",
      "}\n"
     ]
    }
   ],
   "source": [
    "!mongo open_food --quiet --eval 'db.products.find({brands: {$in: [\"m&m\\u0027s\", \"mars\", \"Mars\", \"oreo\", \"starburst\"]}}, {_id: 1, product_name: 1, brands: 1}).sort({product_name: 1}).limit(5).pretty()'"
   ]
  },
  {
   "cell_type": "code",
   "execution_count": 35,
   "id": "alleged-interaction",
   "metadata": {},
   "outputs": [],
   "source": [
    "doc = '{\"code\": \"1199462355859\", \"creator\": \"AllNaturalBrandy\", \"product_name\": \"spicy memes\", \"brands\": \"brandon\", \"packaging\": \"natural\"}'"
   ]
  },
  {
   "cell_type": "code",
   "execution_count": 36,
   "id": "vulnerable-stage",
   "metadata": {},
   "outputs": [
    {
     "name": "stdout",
     "output_type": "stream",
     "text": [
      "WriteResult({ \"nInserted\" : 1 })\n"
     ]
    }
   ],
   "source": [
    "!mongo open_food --quiet --eval 'db.products.insert({doc})'"
   ]
  },
  {
   "cell_type": "code",
   "execution_count": 37,
   "id": "balanced-nancy",
   "metadata": {},
   "outputs": [
    {
     "name": "stdout",
     "output_type": "stream",
     "text": [
      "{\n",
      "\t\"_id\" : ObjectId(\"605cc4ea94d4f4ee31dc20ce\"),\n",
      "\t\"code\" : \"1199462355859\",\n",
      "\t\"creator\" : \"AllNaturalBrandy\",\n",
      "\t\"product_name\" : \"spicy memes\",\n",
      "\t\"brands\" : \"brandon\",\n",
      "\t\"packaging\" : \"natural\"\n",
      "}\n"
     ]
    }
   ],
   "source": [
    "!mongo open_food --quiet --eval 'db.products.find({\"code\": \"1199462355859\", \"creator\": \"AllNaturalBrandy\", \"product_name\": \"spicy memes\", \"brands\": \"brandon\", \"packaging\": \"natural\"}, {}).pretty()'"
   ]
  },
  {
   "cell_type": "code",
   "execution_count": 38,
   "id": "sunrise-envelope",
   "metadata": {},
   "outputs": [
    {
     "name": "stdout",
     "output_type": "stream",
     "text": [
      "WriteResult({ \"nMatched\" : 1, \"nUpserted\" : 0, \"nModified\" : 1 })\n"
     ]
    }
   ],
   "source": [
    "!mongo open_food --quiet --eval 'db.products.update({\"code\": \"1199462355859\"}, {\"code\": \"1199462355859\", \"creator\": \"AllNaturalBrandy\", \"product_name\": \"chicken nuggets\", \"brands\": \"brandon\", \"packaging\": \"natural\"})'"
   ]
  },
  {
   "cell_type": "code",
   "execution_count": 39,
   "id": "altered-anime",
   "metadata": {},
   "outputs": [
    {
     "name": "stdout",
     "output_type": "stream",
     "text": [
      "{\n",
      "\t\"_id\" : ObjectId(\"605cc4ea94d4f4ee31dc20ce\"),\n",
      "\t\"code\" : \"1199462355859\",\n",
      "\t\"creator\" : \"AllNaturalBrandy\",\n",
      "\t\"product_name\" : \"chicken nuggets\",\n",
      "\t\"brands\" : \"brandon\",\n",
      "\t\"packaging\" : \"natural\"\n",
      "}\n"
     ]
    }
   ],
   "source": [
    "!mongo open_food --quiet --eval 'db.products.find({\"code\": \"1199462355859\"}, {}).pretty()'"
   ]
  },
  {
   "cell_type": "code",
   "execution_count": 40,
   "id": "advisory-barrier",
   "metadata": {},
   "outputs": [],
   "source": [
    "removeDoc = '{\"code\": \"1199462355859\", \"creator\": \"AllNaturalBrandy\", \"product_name\": \"chicken nuggets\", \"brands\": \"brandon\", \"packaging\": \"natural\"}'"
   ]
  },
  {
   "cell_type": "code",
   "execution_count": 41,
   "id": "powerful-entrepreneur",
   "metadata": {},
   "outputs": [
    {
     "name": "stdout",
     "output_type": "stream",
     "text": [
      "WriteResult({ \"nRemoved\" : 1 })\n"
     ]
    }
   ],
   "source": [
    "!mongo open_food --quiet --eval 'db.products.remove({removeDoc})'"
   ]
  },
  {
   "cell_type": "code",
   "execution_count": 42,
   "id": "southern-conspiracy",
   "metadata": {},
   "outputs": [],
   "source": [
    "!mongo open_food --quiet --eval 'db.products.find({\"_id\": \"605cc4ea94d4f4ee31dc20ce\"}, {}).pretty()'"
   ]
  },
  {
   "cell_type": "code",
   "execution_count": null,
   "id": "quiet-shopping",
   "metadata": {},
   "outputs": [],
   "source": []
  }
 ],
 "metadata": {
  "environment": {
   "name": "common-cpu.mnightly-2021-02-12-debian-10-test",
   "type": "gcloud",
   "uri": "gcr.io/deeplearning-platform-release/base-cpu:mnightly-2021-02-12-debian-10-test"
  },
  "kernelspec": {
   "display_name": "Python 3",
   "language": "python",
   "name": "python3"
  },
  "language_info": {
   "codemirror_mode": {
    "name": "ipython",
    "version": 3
   },
   "file_extension": ".py",
   "mimetype": "text/x-python",
   "name": "python",
   "nbconvert_exporter": "python",
   "pygments_lexer": "ipython3",
   "version": "3.7.9"
  }
 },
 "nbformat": 4,
 "nbformat_minor": 5
}
