{
 "cells": [
  {
   "cell_type": "code",
   "execution_count": 1,
   "id": "therapeutic-rogers",
   "metadata": {},
   "outputs": [
    {
     "data": {
      "application/javascript": [
       "\n",
       "        if (typeof window.interactive_beam_jquery == 'undefined') {\n",
       "          var jqueryScript = document.createElement('script');\n",
       "          jqueryScript.src = 'https://code.jquery.com/jquery-3.4.1.slim.min.js';\n",
       "          jqueryScript.type = 'text/javascript';\n",
       "          jqueryScript.onload = function() {\n",
       "            var datatableScript = document.createElement('script');\n",
       "            datatableScript.src = 'https://cdn.datatables.net/1.10.20/js/jquery.dataTables.min.js';\n",
       "            datatableScript.type = 'text/javascript';\n",
       "            datatableScript.onload = function() {\n",
       "              window.interactive_beam_jquery = jQuery.noConflict(true);\n",
       "              window.interactive_beam_jquery(document).ready(function($){\n",
       "                \n",
       "              });\n",
       "            }\n",
       "            document.head.appendChild(datatableScript);\n",
       "          };\n",
       "          document.head.appendChild(jqueryScript);\n",
       "        } else {\n",
       "          window.interactive_beam_jquery(document).ready(function($){\n",
       "            \n",
       "          });\n",
       "        }"
      ]
     },
     "metadata": {},
     "output_type": "display_data"
    },
    {
     "name": "stderr",
     "output_type": "stream",
     "text": [
      "/home/jupyter/venv/lib/python3.7/site-packages/apache_beam/io/gcp/bigquery.py:1936: BeamDeprecationWarning: options is deprecated since First stable release. References to <pipeline>.options will not be supported\n",
      "  temp_location = pcoll.pipeline.options.view_as(\n",
      "/home/jupyter/venv/lib/python3.7/site-packages/apache_beam/io/gcp/bigquery_file_loads.py:956: BeamDeprecationWarning: options is deprecated since First stable release. References to <pipeline>.options will not be supported\n",
      "  temp_location = p.options.view_as(GoogleCloudOptions).temp_location\n"
     ]
    }
   ],
   "source": [
    "import logging, datetime\n",
    "import apache_beam as beam\n",
    "from apache_beam.options.pipeline_options import PipelineOptions\n",
    "from apache_beam.io import WriteToText\n",
    "from apache_beam.io.gcp.bigquery import ReadFromBigQuery, WriteToBigQuery\n",
    "\n",
    "    \n",
    "'''\n",
    "5/11/2021\n",
    "The following ParDo 'MakeHasGenre' function creates a junction table for the genres of a particular titleID.\n",
    "It takes in the titleID and list of genres as a string and creates a record for each unique titleID\n",
    "and genre combination. The FARM_FINGERPRINT method would not work for the creation of a unqiue id for genreID,\n",
    "so that was performed after in bigquery with MD5.\n",
    "'''\n",
    "class MakeHasGenre(beam.DoFn):\n",
    "    def process(self, element):\n",
    "        titleID = element['titleID']\n",
    "        genres = element['genres']\n",
    "        if genres is not None:\n",
    "            genres_list = genres.split(',')\n",
    "            records_list = []\n",
    "            for genre in genres_list:\n",
    "                record = {'titleID': titleID, 'genreID': genre}\n",
    "                records_list.append(record)\n",
    "            return records_list\n",
    "\n",
    "        \n",
    "def run():\n",
    "    PROJECT_ID = 'coastal-well-303101'\n",
    "    BUCKET = 'gs://allnaturalbrandy2021' # should we change bucket?\n",
    "    DIR_PATH = BUCKET + '/output/' + datetime.datetime.now().strftime('%Y_%m_%d_%H_%M_%S') + '/'\n",
    "    \n",
    "    \n",
    "    options = PipelineOptions(\n",
    "    flags=None,\n",
    "    runner='DataflowRunner',\n",
    "    project=PROJECT_ID,\n",
    "    job_name='hasgenre',\n",
    "    temp_location=BUCKET + '/temp',\n",
    "    region='us-central1')\n",
    "    \n",
    "    p = beam.pipeline.Pipeline(options=options)\n",
    "    \n",
    "    sql = 'SELECT titleID, genres FROM datamart.movie_title'\n",
    "    bq_source = ReadFromBigQuery(query=sql, use_standard_sql=True, gcs_location=BUCKET)\n",
    "    \n",
    "    query_results = p | 'Read from BQ' >> beam.io.Read(bq_source)\n",
    "    \n",
    "    has_genre_pcoll = query_results | 'Make Genres Junction Table' >> beam.ParDo(MakeHasGenre())\n",
    "    \n",
    "    dataset_id = 'datamart'\n",
    "    table_id = PROJECT_ID + ':' + dataset_id + '.' + 'has_genre_Dataflow'\n",
    "    schema_id = 'titleID:STRING,genreID:STRING'\n",
    "    \n",
    "    has_genre_pcoll | 'Write has_genre to BQ' >> WriteToBigQuery(table=table_id, schema=schema_id, custom_gcs_temp_location=BUCKET)\n",
    "    \n",
    "    \n",
    "    result = p.run()\n",
    "    result.wait_until_finish()\n",
    "    \n",
    "if __name__ == '__main__':\n",
    "    logging.getLogger().setLevel(logging.ERROR)\n",
    "    run()"
   ]
  },
  {
   "cell_type": "code",
   "execution_count": 3,
   "id": "retained-jesus",
   "metadata": {},
   "outputs": [],
   "source": [
    "import logging, datetime\n",
    "import apache_beam as beam\n",
    "from apache_beam.options.pipeline_options import PipelineOptions\n",
    "from apache_beam.io import WriteToText\n",
    "from apache_beam.io.gcp.bigquery import ReadFromBigQuery, WriteToBigQuery\n",
    "\n",
    "\n",
    "'''\n",
    "5/11/2021\n",
    "The following ParDo 'MakeGenre' function takes in a dictionary containing a genre from the previously made has_genre_Beam table.\n",
    "It simply creates a record of genreID and genre and returns it.\n",
    "The FARM_FINGERPRINT method would not work for the creation of a unqiue id for genreID,\n",
    "so that was performed after in bigquery with MD5.\n",
    "'''\n",
    "class MakeGenre(beam.DoFn):\n",
    "    def process(self, element):\n",
    "        g = element['genreID']\n",
    "        if g is not None:\n",
    "            record = {'genreID': g, 'genre': g}\n",
    "            return [record]\n",
    "\n",
    "\n",
    "def run():\n",
    "    PROJECT_ID = 'coastal-well-303101'\n",
    "    BUCKET = 'gs://allnaturalbrandy2021'\n",
    "    DIR_PATH = BUCKET + '/output/' + datetime.datetime.now().strftime('%Y_%m_%d_%H_%M_%S') + '/'\n",
    "    \n",
    "    \n",
    "    options = PipelineOptions(\n",
    "    flags=None,\n",
    "    runner='DataflowRunner',\n",
    "    project=PROJECT_ID,\n",
    "    job_name='genre',\n",
    "    temp_location=BUCKET + '/temp',\n",
    "    region='us-central1')\n",
    "    \n",
    "    p = beam.pipeline.Pipeline(options=options)\n",
    "    \n",
    "    sql = 'SELECT DISTINCT genreID FROM datamart.has_genre_Dataflow'\n",
    "    bq_source = ReadFromBigQuery(query=sql, use_standard_sql=True, gcs_location=BUCKET)\n",
    "    \n",
    "    query_results = p | 'Read from BQ' >> beam.io.Read(bq_source)\n",
    "    \n",
    "    genre_pcoll = query_results | 'Make Genre Table' >> beam.ParDo(MakeGenre())\n",
    "\n",
    "    dataset_id = 'datamart'\n",
    "    table_id = PROJECT_ID + ':' + dataset_id + '.' + 'genre_Dataflow'\n",
    "    schema_id = 'genreID:STRING,genre:STRING'\n",
    "    \n",
    "    genre_pcoll | 'Write genre to BQ' >> WriteToBigQuery(table=table_id, schema=schema_id, custom_gcs_temp_location=BUCKET)\n",
    "    \n",
    "    \n",
    "    result = p.run()\n",
    "    result.wait_until_finish()\n",
    "    \n",
    "if __name__ == '__main__':\n",
    "    logging.getLogger().setLevel(logging.ERROR)\n",
    "    run()"
   ]
  },
  {
   "cell_type": "markdown",
   "id": "absolute-maldives",
   "metadata": {},
   "source": [
    "5/11/2021 Making the unique genreID for the has_genre table in bigquery because the FARM_FINGERPRINT method wasn't working in apache beam. We used MD5 to be able to easily convert bytes to string."
   ]
  },
  {
   "cell_type": "code",
   "execution_count": 1,
   "id": "sound-register",
   "metadata": {},
   "outputs": [
    {
     "data": {
      "text/html": [
       "<div>\n",
       "<style scoped>\n",
       "    .dataframe tbody tr th:only-of-type {\n",
       "        vertical-align: middle;\n",
       "    }\n",
       "\n",
       "    .dataframe tbody tr th {\n",
       "        vertical-align: top;\n",
       "    }\n",
       "\n",
       "    .dataframe thead th {\n",
       "        text-align: right;\n",
       "    }\n",
       "</style>\n",
       "<table border=\"1\" class=\"dataframe\">\n",
       "  <thead>\n",
       "    <tr style=\"text-align: right;\">\n",
       "      <th></th>\n",
       "    </tr>\n",
       "  </thead>\n",
       "  <tbody>\n",
       "  </tbody>\n",
       "</table>\n",
       "</div>"
      ],
      "text/plain": [
       "Empty DataFrame\n",
       "Columns: []\n",
       "Index: []"
      ]
     },
     "execution_count": 1,
     "metadata": {},
     "output_type": "execute_result"
    }
   ],
   "source": [
    "%%bigquery\n",
    "UPDATE datamart.has_genre_Dataflow SET genreID = TO_BASE64(MD5(genreID))\n",
    "WHERE genreID is NOT NULL"
   ]
  },
  {
   "cell_type": "markdown",
   "id": "swiss-wallace",
   "metadata": {},
   "source": [
    "5/11/2021 Making the unique genreID for the genre table in bigquery because the FARM_FINGERPRINT method wasn't working in apache beam. We used MD5 to be able to easily convert bytes to string."
   ]
  },
  {
   "cell_type": "code",
   "execution_count": 3,
   "id": "promotional-chick",
   "metadata": {},
   "outputs": [
    {
     "data": {
      "text/html": [
       "<div>\n",
       "<style scoped>\n",
       "    .dataframe tbody tr th:only-of-type {\n",
       "        vertical-align: middle;\n",
       "    }\n",
       "\n",
       "    .dataframe tbody tr th {\n",
       "        vertical-align: top;\n",
       "    }\n",
       "\n",
       "    .dataframe thead th {\n",
       "        text-align: right;\n",
       "    }\n",
       "</style>\n",
       "<table border=\"1\" class=\"dataframe\">\n",
       "  <thead>\n",
       "    <tr style=\"text-align: right;\">\n",
       "      <th></th>\n",
       "    </tr>\n",
       "  </thead>\n",
       "  <tbody>\n",
       "  </tbody>\n",
       "</table>\n",
       "</div>"
      ],
      "text/plain": [
       "Empty DataFrame\n",
       "Columns: []\n",
       "Index: []"
      ]
     },
     "execution_count": 3,
     "metadata": {},
     "output_type": "execute_result"
    }
   ],
   "source": [
    "%%bigquery\n",
    "UPDATE datamart.genre_Dataflow SET genreID = TO_BASE64(MD5(genreID))\n",
    "WHERE genreID is NOT NULL"
   ]
  },
  {
   "cell_type": "code",
   "execution_count": 5,
   "id": "essential-premiere",
   "metadata": {},
   "outputs": [
    {
     "data": {
      "text/html": [
       "<div>\n",
       "<style scoped>\n",
       "    .dataframe tbody tr th:only-of-type {\n",
       "        vertical-align: middle;\n",
       "    }\n",
       "\n",
       "    .dataframe tbody tr th {\n",
       "        vertical-align: top;\n",
       "    }\n",
       "\n",
       "    .dataframe thead th {\n",
       "        text-align: right;\n",
       "    }\n",
       "</style>\n",
       "<table border=\"1\" class=\"dataframe\">\n",
       "  <thead>\n",
       "    <tr style=\"text-align: right;\">\n",
       "      <th></th>\n",
       "      <th>f0_</th>\n",
       "      <th>f1_</th>\n",
       "    </tr>\n",
       "  </thead>\n",
       "  <tbody>\n",
       "    <tr>\n",
       "      <th>0</th>\n",
       "      <td>7821715</td>\n",
       "      <td>7821715</td>\n",
       "    </tr>\n",
       "  </tbody>\n",
       "</table>\n",
       "</div>"
      ],
      "text/plain": [
       "       f0_      f1_\n",
       "0  7821715  7821715"
      ]
     },
     "execution_count": 5,
     "metadata": {},
     "output_type": "execute_result"
    }
   ],
   "source": [
    "%%bigquery\n",
    "SELECT COUNT(*), COUNT(DISTINCT titleID)\n",
    "FROM datamart.movie_title"
   ]
  },
  {
   "cell_type": "code",
   "execution_count": 6,
   "id": "fewer-opinion",
   "metadata": {},
   "outputs": [
    {
     "data": {
      "text/html": [
       "<div>\n",
       "<style scoped>\n",
       "    .dataframe tbody tr th:only-of-type {\n",
       "        vertical-align: middle;\n",
       "    }\n",
       "\n",
       "    .dataframe tbody tr th {\n",
       "        vertical-align: top;\n",
       "    }\n",
       "\n",
       "    .dataframe thead th {\n",
       "        text-align: right;\n",
       "    }\n",
       "</style>\n",
       "<table border=\"1\" class=\"dataframe\">\n",
       "  <thead>\n",
       "    <tr style=\"text-align: right;\">\n",
       "      <th></th>\n",
       "      <th>titleID</th>\n",
       "      <th>titleType</th>\n",
       "      <th>primaryTitle</th>\n",
       "      <th>originalTitle</th>\n",
       "      <th>isAdult</th>\n",
       "      <th>startYear</th>\n",
       "      <th>endYear</th>\n",
       "      <th>runTimeMinutes</th>\n",
       "      <th>genres</th>\n",
       "      <th>titleID_1</th>\n",
       "      <th>genreID</th>\n",
       "    </tr>\n",
       "  </thead>\n",
       "  <tbody>\n",
       "  </tbody>\n",
       "</table>\n",
       "</div>"
      ],
      "text/plain": [
       "Empty DataFrame\n",
       "Columns: [titleID, titleType, primaryTitle, originalTitle, isAdult, startYear, endYear, runTimeMinutes, genres, titleID_1, genreID]\n",
       "Index: []"
      ]
     },
     "execution_count": 6,
     "metadata": {},
     "output_type": "execute_result"
    }
   ],
   "source": [
    "%%bigquery\n",
    "SELECT *\n",
    "FROM datamart.movie_title AS m\n",
    "FULL OUTER JOIN datamart.has_genre_Dataflow AS hg\n",
    "ON m.titleID = hg.titleID\n",
    "WHERE m.titleID IS NULL"
   ]
  },
  {
   "cell_type": "code",
   "execution_count": 7,
   "id": "wicked-pittsburgh",
   "metadata": {},
   "outputs": [
    {
     "data": {
      "text/html": [
       "<div>\n",
       "<style scoped>\n",
       "    .dataframe tbody tr th:only-of-type {\n",
       "        vertical-align: middle;\n",
       "    }\n",
       "\n",
       "    .dataframe tbody tr th {\n",
       "        vertical-align: top;\n",
       "    }\n",
       "\n",
       "    .dataframe thead th {\n",
       "        text-align: right;\n",
       "    }\n",
       "</style>\n",
       "<table border=\"1\" class=\"dataframe\">\n",
       "  <thead>\n",
       "    <tr style=\"text-align: right;\">\n",
       "      <th></th>\n",
       "      <th>genreID</th>\n",
       "      <th>has_genreID</th>\n",
       "    </tr>\n",
       "  </thead>\n",
       "  <tbody>\n",
       "  </tbody>\n",
       "</table>\n",
       "</div>"
      ],
      "text/plain": [
       "Empty DataFrame\n",
       "Columns: [genreID, has_genreID]\n",
       "Index: []"
      ]
     },
     "execution_count": 7,
     "metadata": {},
     "output_type": "execute_result"
    }
   ],
   "source": [
    "%%bigquery\n",
    "SELECT g.genreID AS genreID, hg.genreID AS has_genreID\n",
    "FROM datamart.genre_Dataflow AS g\n",
    "FULL OUTER JOIN datamart.has_genre_Dataflow AS hg\n",
    "ON g.genreID = hg.genreID\n",
    "WHERE g.genreID IS NULL"
   ]
  },
  {
   "cell_type": "code",
   "execution_count": 8,
   "id": "pending-terrain",
   "metadata": {},
   "outputs": [
    {
     "data": {
      "text/html": [
       "<div>\n",
       "<style scoped>\n",
       "    .dataframe tbody tr th:only-of-type {\n",
       "        vertical-align: middle;\n",
       "    }\n",
       "\n",
       "    .dataframe tbody tr th {\n",
       "        vertical-align: top;\n",
       "    }\n",
       "\n",
       "    .dataframe thead th {\n",
       "        text-align: right;\n",
       "    }\n",
       "</style>\n",
       "<table border=\"1\" class=\"dataframe\">\n",
       "  <thead>\n",
       "    <tr style=\"text-align: right;\">\n",
       "      <th></th>\n",
       "      <th>f0_</th>\n",
       "      <th>f1_</th>\n",
       "    </tr>\n",
       "  </thead>\n",
       "  <tbody>\n",
       "    <tr>\n",
       "      <th>0</th>\n",
       "      <td>12421361</td>\n",
       "      <td>12421361</td>\n",
       "    </tr>\n",
       "  </tbody>\n",
       "</table>\n",
       "</div>"
      ],
      "text/plain": [
       "        f0_       f1_\n",
       "0  12421361  12421361"
      ]
     },
     "execution_count": 8,
     "metadata": {},
     "output_type": "execute_result"
    }
   ],
   "source": [
    "%%bigquery\n",
    "SELECT COUNT(*), COUNT(DISTINCT titleID || genreID)\n",
    "FROM datamart.has_genre_Dataflow"
   ]
  },
  {
   "cell_type": "code",
   "execution_count": 9,
   "id": "desperate-money",
   "metadata": {},
   "outputs": [
    {
     "data": {
      "text/html": [
       "<div>\n",
       "<style scoped>\n",
       "    .dataframe tbody tr th:only-of-type {\n",
       "        vertical-align: middle;\n",
       "    }\n",
       "\n",
       "    .dataframe tbody tr th {\n",
       "        vertical-align: top;\n",
       "    }\n",
       "\n",
       "    .dataframe thead th {\n",
       "        text-align: right;\n",
       "    }\n",
       "</style>\n",
       "<table border=\"1\" class=\"dataframe\">\n",
       "  <thead>\n",
       "    <tr style=\"text-align: right;\">\n",
       "      <th></th>\n",
       "      <th>f0_</th>\n",
       "      <th>f1_</th>\n",
       "    </tr>\n",
       "  </thead>\n",
       "  <tbody>\n",
       "    <tr>\n",
       "      <th>0</th>\n",
       "      <td>234</td>\n",
       "      <td>234</td>\n",
       "    </tr>\n",
       "  </tbody>\n",
       "</table>\n",
       "</div>"
      ],
      "text/plain": [
       "   f0_  f1_\n",
       "0  234  234"
      ]
     },
     "execution_count": 9,
     "metadata": {},
     "output_type": "execute_result"
    }
   ],
   "source": [
    "%%bigquery\n",
    "SELECT COUNT(*), COUNT(DISTINCT genreID)\n",
    "FROM datamart.genre_Dataflow"
   ]
  },
  {
   "cell_type": "markdown",
   "id": "underlying-information",
   "metadata": {},
   "source": [
    "5/11/2021\n",
    "Adding an industry column to be able to perform cross-data set queries on movie titles"
   ]
  },
  {
   "cell_type": "code",
   "execution_count": 7,
   "id": "small-punishment",
   "metadata": {},
   "outputs": [
    {
     "data": {
      "text/html": [
       "<div>\n",
       "<style scoped>\n",
       "    .dataframe tbody tr th:only-of-type {\n",
       "        vertical-align: middle;\n",
       "    }\n",
       "\n",
       "    .dataframe tbody tr th {\n",
       "        vertical-align: top;\n",
       "    }\n",
       "\n",
       "    .dataframe thead th {\n",
       "        text-align: right;\n",
       "    }\n",
       "</style>\n",
       "<table border=\"1\" class=\"dataframe\">\n",
       "  <thead>\n",
       "    <tr style=\"text-align: right;\">\n",
       "      <th></th>\n",
       "    </tr>\n",
       "  </thead>\n",
       "  <tbody>\n",
       "  </tbody>\n",
       "</table>\n",
       "</div>"
      ],
      "text/plain": [
       "Empty DataFrame\n",
       "Columns: []\n",
       "Index: []"
      ]
     },
     "execution_count": 7,
     "metadata": {},
     "output_type": "execute_result"
    }
   ],
   "source": [
    "%%bigquery\n",
    "ALTER TABLE datamart.movie_title\n",
    "ADD COLUMN industry STRING"
   ]
  },
  {
   "cell_type": "markdown",
   "id": "desperate-oregon",
   "metadata": {},
   "source": [
    "5/11/2021\n",
    "Deleting genres column as it is old and contains information that is now properly represented in the schema"
   ]
  },
  {
   "cell_type": "code",
   "execution_count": 14,
   "id": "satisfactory-yahoo",
   "metadata": {},
   "outputs": [
    {
     "data": {
      "text/html": [
       "<div>\n",
       "<style scoped>\n",
       "    .dataframe tbody tr th:only-of-type {\n",
       "        vertical-align: middle;\n",
       "    }\n",
       "\n",
       "    .dataframe tbody tr th {\n",
       "        vertical-align: top;\n",
       "    }\n",
       "\n",
       "    .dataframe thead th {\n",
       "        text-align: right;\n",
       "    }\n",
       "</style>\n",
       "<table border=\"1\" class=\"dataframe\">\n",
       "  <thead>\n",
       "    <tr style=\"text-align: right;\">\n",
       "      <th></th>\n",
       "    </tr>\n",
       "  </thead>\n",
       "  <tbody>\n",
       "  </tbody>\n",
       "</table>\n",
       "</div>"
      ],
      "text/plain": [
       "Empty DataFrame\n",
       "Columns: []\n",
       "Index: []"
      ]
     },
     "execution_count": 14,
     "metadata": {},
     "output_type": "execute_result"
    }
   ],
   "source": [
    "%%bigquery\n",
    "ALTER TABLE datamart.movie_title\n",
    "DROP COLUMN genres"
   ]
  },
  {
   "cell_type": "markdown",
   "id": "fleet-auditor",
   "metadata": {},
   "source": [
    "5/11/2021\n",
    "Setting the industry for hollywood records, identified by the titleID length being shorter than the titleID for bollywood. This is because the titleID for bollywood movies was generated manually with a length known to be longer than the titleID already present for movies from the IMDb dataset."
   ]
  },
  {
   "cell_type": "code",
   "execution_count": 10,
   "id": "continuous-satellite",
   "metadata": {},
   "outputs": [
    {
     "data": {
      "text/html": [
       "<div>\n",
       "<style scoped>\n",
       "    .dataframe tbody tr th:only-of-type {\n",
       "        vertical-align: middle;\n",
       "    }\n",
       "\n",
       "    .dataframe tbody tr th {\n",
       "        vertical-align: top;\n",
       "    }\n",
       "\n",
       "    .dataframe thead th {\n",
       "        text-align: right;\n",
       "    }\n",
       "</style>\n",
       "<table border=\"1\" class=\"dataframe\">\n",
       "  <thead>\n",
       "    <tr style=\"text-align: right;\">\n",
       "      <th></th>\n",
       "    </tr>\n",
       "  </thead>\n",
       "  <tbody>\n",
       "  </tbody>\n",
       "</table>\n",
       "</div>"
      ],
      "text/plain": [
       "Empty DataFrame\n",
       "Columns: []\n",
       "Index: []"
      ]
     },
     "execution_count": 10,
     "metadata": {},
     "output_type": "execute_result"
    }
   ],
   "source": [
    "%%bigquery\n",
    "UPDATE datamart.movie_title SET industry = 'hollywood'\n",
    "WHERE LENGTH(titleID) < 25"
   ]
  },
  {
   "cell_type": "markdown",
   "id": "british-highway",
   "metadata": {},
   "source": [
    "5/11/2021\n",
    "Setting the industry for bollywood records, identified by the titleID length being longer than the titleID for hollywood. This is because the titleID for bollywood movies was generated manually with a length known to be longer than the titleID already present for movies from the IMDb dataset."
   ]
  },
  {
   "cell_type": "code",
   "execution_count": 12,
   "id": "trying-corps",
   "metadata": {},
   "outputs": [
    {
     "data": {
      "text/html": [
       "<div>\n",
       "<style scoped>\n",
       "    .dataframe tbody tr th:only-of-type {\n",
       "        vertical-align: middle;\n",
       "    }\n",
       "\n",
       "    .dataframe tbody tr th {\n",
       "        vertical-align: top;\n",
       "    }\n",
       "\n",
       "    .dataframe thead th {\n",
       "        text-align: right;\n",
       "    }\n",
       "</style>\n",
       "<table border=\"1\" class=\"dataframe\">\n",
       "  <thead>\n",
       "    <tr style=\"text-align: right;\">\n",
       "      <th></th>\n",
       "    </tr>\n",
       "  </thead>\n",
       "  <tbody>\n",
       "  </tbody>\n",
       "</table>\n",
       "</div>"
      ],
      "text/plain": [
       "Empty DataFrame\n",
       "Columns: []\n",
       "Index: []"
      ]
     },
     "execution_count": 12,
     "metadata": {},
     "output_type": "execute_result"
    }
   ],
   "source": [
    "%%bigquery\n",
    "UPDATE datamart.movie_title SET industry = 'bollywood'\n",
    "WHERE LENGTH(titleID) > 25"
   ]
  },
  {
   "cell_type": "markdown",
   "id": "severe-nursery",
   "metadata": {},
   "source": [
    "5/13/2021\n",
    "The below query returns the movie titles shared between the datasets and organizes the output by the number of movies in a given genre in descending order."
   ]
  },
  {
   "cell_type": "code",
   "execution_count": 33,
   "id": "danish-stations",
   "metadata": {},
   "outputs": [
    {
     "data": {
      "text/html": [
       "<div>\n",
       "<style scoped>\n",
       "    .dataframe tbody tr th:only-of-type {\n",
       "        vertical-align: middle;\n",
       "    }\n",
       "\n",
       "    .dataframe tbody tr th {\n",
       "        vertical-align: top;\n",
       "    }\n",
       "\n",
       "    .dataframe thead th {\n",
       "        text-align: right;\n",
       "    }\n",
       "</style>\n",
       "<table border=\"1\" class=\"dataframe\">\n",
       "  <thead>\n",
       "    <tr style=\"text-align: right;\">\n",
       "      <th></th>\n",
       "    </tr>\n",
       "  </thead>\n",
       "  <tbody>\n",
       "  </tbody>\n",
       "</table>\n",
       "</div>"
      ],
      "text/plain": [
       "Empty DataFrame\n",
       "Columns: []\n",
       "Index: []"
      ]
     },
     "execution_count": 33,
     "metadata": {},
     "output_type": "execute_result"
    }
   ],
   "source": [
    "%%bigquery\n",
    "CREATE VIEW reports.test_third_query_actual AS\n",
    "SELECT distinct genre, COUNT(genre) AS movie_count\n",
    "FROM datamart.movie_title AS out\n",
    "          JOIN datamart.has_genre_Dataflow AS hgOut\n",
    "          ON out.titleID = hgOut.titleID\n",
    "          JOIN datamart.genre_Dataflow AS gOut\n",
    "          ON hgOut.genreID = gOut.genreID\n",
    "WHERE primaryTitle in (SELECT primaryTitle\n",
    "    FROM (SELECT AVG(startYear) AS startYear, primaryTitle, COUNT(primaryTitle) AS num, industry, COUNT(genre) AS count_genre\n",
    "         FROM datamart.movie_title AS m\n",
    "          JOIN datamart.has_genre_Dataflow AS hg\n",
    "          ON m.titleID = hg.titleID\n",
    "          JOIN datamart.genre_Dataflow AS g\n",
    "          ON hg.genreID = g.genreID\n",
    "         GROUP BY primaryTitle, industry\n",
    "         HAVING num > 1 AND num is not NULL) AS m1\n",
    "    GROUP BY primaryTitle\n",
    "    HAVING COUNT(primaryTitle) > 1)\n",
    "GROUP BY genre\n",
    "ORDER BY movie_count DESC\n",
    "LIMIT 5"
   ]
  },
  {
   "cell_type": "markdown",
   "id": "animated-blink",
   "metadata": {},
   "source": [
    "5/13/2021\n",
    "The below query returns the movie titles shared between the datasets and organizes the number of movie title occurrences against the movie's title."
   ]
  },
  {
   "cell_type": "code",
   "execution_count": 10,
   "id": "blessed-kennedy",
   "metadata": {},
   "outputs": [
    {
     "data": {
      "text/html": [
       "<div>\n",
       "<style scoped>\n",
       "    .dataframe tbody tr th:only-of-type {\n",
       "        vertical-align: middle;\n",
       "    }\n",
       "\n",
       "    .dataframe tbody tr th {\n",
       "        vertical-align: top;\n",
       "    }\n",
       "\n",
       "    .dataframe thead th {\n",
       "        text-align: right;\n",
       "    }\n",
       "</style>\n",
       "<table border=\"1\" class=\"dataframe\">\n",
       "  <thead>\n",
       "    <tr style=\"text-align: right;\">\n",
       "      <th></th>\n",
       "    </tr>\n",
       "  </thead>\n",
       "  <tbody>\n",
       "  </tbody>\n",
       "</table>\n",
       "</div>"
      ],
      "text/plain": [
       "Empty DataFrame\n",
       "Columns: []\n",
       "Index: []"
      ]
     },
     "execution_count": 10,
     "metadata": {},
     "output_type": "execute_result"
    }
   ],
   "source": [
    "%%bigquery\n",
    "CREATE VIEW reports.test_second_query AS\n",
    "    SELECT CAST(AVG(startYear) AS INT64) AS average_year, primaryTitle, SUM(num) AS num_movies\n",
    "    FROM (SELECT AVG(startYear) AS startYear, primaryTitle, COUNT(primaryTitle) AS num, industry\n",
    "         FROM datamart.movie_title AS m\n",
    "          JOIN datamart.has_genre_Dataflow AS hg\n",
    "          ON m.titleID = hg.titleID\n",
    "          JOIN datamart.genre_Dataflow AS g\n",
    "          ON hg.genreID = g.genreID\n",
    "         GROUP BY primaryTitle, industry\n",
    "         HAVING num > 1 AND num is not NULL) AS m1\n",
    "    GROUP BY primaryTitle\n",
    "    HAVING COUNT(primaryTitle) > 1\n",
    "    ORDER BY average_year ASC"
   ]
  },
  {
   "cell_type": "markdown",
   "id": "legislative-cycle",
   "metadata": {},
   "source": [
    "5/13/2021\n",
    "The below query groups records by genre, startYear, and industry to ultimately represent the number of genres for a given year and industry."
   ]
  },
  {
   "cell_type": "code",
   "execution_count": 7,
   "id": "sapphire-grass",
   "metadata": {},
   "outputs": [
    {
     "data": {
      "text/html": [
       "<div>\n",
       "<style scoped>\n",
       "    .dataframe tbody tr th:only-of-type {\n",
       "        vertical-align: middle;\n",
       "    }\n",
       "\n",
       "    .dataframe tbody tr th {\n",
       "        vertical-align: top;\n",
       "    }\n",
       "\n",
       "    .dataframe thead th {\n",
       "        text-align: right;\n",
       "    }\n",
       "</style>\n",
       "<table border=\"1\" class=\"dataframe\">\n",
       "  <thead>\n",
       "    <tr style=\"text-align: right;\">\n",
       "      <th></th>\n",
       "    </tr>\n",
       "  </thead>\n",
       "  <tbody>\n",
       "  </tbody>\n",
       "</table>\n",
       "</div>"
      ],
      "text/plain": [
       "Empty DataFrame\n",
       "Columns: []\n",
       "Index: []"
      ]
     },
     "execution_count": 7,
     "metadata": {},
     "output_type": "execute_result"
    }
   ],
   "source": [
    "%%bigquery\n",
    "CREATE VIEW reports.test_first_query AS\n",
    "SELECT startYear AS year, genre, COUNT(Genre) AS movie_count, industry\n",
    "    FROM datamart.movie_title AS m\n",
    "    JOIN datamart.has_genre_Dataflow AS hg\n",
    "    ON m.titleID = hg.titleID\n",
    "    JOIN datamart.genre_Dataflow AS g\n",
    "    ON g.genreID = hg.genreID\n",
    "    WHERE genre != '\\\\N'\n",
    "    GROUP BY genre, startYear, industry\n",
    "    HAVING startYear BETWEEN 1910 AND 2021 AND movie_count >= 20\n",
    "    ORDER BY year"
   ]
  }
 ],
 "metadata": {
  "environment": {
   "name": "common-cpu.mnightly-2021-02-12-debian-10-test",
   "type": "gcloud",
   "uri": "gcr.io/deeplearning-platform-release/base-cpu:mnightly-2021-02-12-debian-10-test"
  },
  "kernelspec": {
   "display_name": "Python 3",
   "language": "python",
   "name": "python3"
  },
  "language_info": {
   "codemirror_mode": {
    "name": "ipython",
    "version": 3
   },
   "file_extension": ".py",
   "mimetype": "text/x-python",
   "name": "python",
   "nbconvert_exporter": "python",
   "pygments_lexer": "ipython3",
   "version": "3.7.9"
  }
 },
 "nbformat": 4,
 "nbformat_minor": 5
}
