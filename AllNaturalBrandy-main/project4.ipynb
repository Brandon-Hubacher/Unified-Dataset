{
 "cells": [
  {
   "cell_type": "code",
   "execution_count": 114,
   "id": "asian-discrimination",
   "metadata": {},
   "outputs": [],
   "source": [
    "import pandas as pd\n",
    "from google.cloud import firestore\n",
    "db = firestore.Client()"
   ]
  },
  {
   "cell_type": "code",
   "execution_count": 115,
   "id": "equipped-exhibit",
   "metadata": {},
   "outputs": [],
   "source": [
    "batch = db.batch()\n",
    "\n",
    "df = pd.read_csv(\"/home/jupyter/spanner_shopify/apps.csv\", sep=',', header=0, lineterminator='\\n')\n",
    "apps_rows = df.values.tolist()\n",
    "\n",
    "df = pd.read_csv(\"/home/jupyter/spanner_shopify/pricing_plans.csv\", sep=',', header=0, lineterminator='\\n')\n",
    "pricing_plans_rows = df.values.tolist()\n",
    "\n",
    "df = pd.read_csv(\"/home/jupyter/spanner_shopify/key_benefits.csv\", sep=',', header=0, lineterminator='\\n')\n",
    "key_benefits_rows = df.values.tolist()\n",
    "\n",
    "df = pd.read_csv(\"/home/jupyter/spanner_shopify/reviews.csv\", sep=',', header=0, lineterminator='\\n')\n",
    "reviews_rows = df.values.tolist()\n",
    "\n",
    "counter = 0\n",
    "\n",
    "for apps_row in apps_rows:\n",
    "    counter += 1\n",
    "    if counter >= 399:\n",
    "        batch.commit()\n",
    "        counter = 0\n",
    "            \n",
    "    apps_record = {}\n",
    "    apps_record['id'] = apps_row[0]\n",
    "    apps_record['url'] = apps_row[1]\n",
    "    apps_record['title'] = apps_row[2]\n",
    "    apps_record['developer'] = apps_row[3]\n",
    "    apps_record['developer_link'] = apps_row[4]\n",
    "    apps_record['icon'] = apps_row[5]\n",
    "    apps_record['rating'] = apps_row[6]\n",
    "    apps_record['reviews_count'] = apps_row[7]\n",
    "    \n",
    "    apps_ref = db.collection('apps').document(apps_row[0])\n",
    "    \n",
    "    batch.set(apps_ref, apps_record)\n",
    "    \n",
    "    for pricing_plans_row in pricing_plans_rows:\n",
    "        if apps_row[0] == pricing_plans_row[1]:\n",
    "            \n",
    "            pricing_plans_record = {}\n",
    "            pricing_plans_record['id'] = pricing_plans_row[0]\n",
    "            pricing_plans_record['app_id'] = pricing_plans_row[1]\n",
    "            pricing_plans_record['title'] = pricing_plans_row[2]\n",
    "            pricing_plans_record['price'] = pricing_plans_row[3]\n",
    "            #pricing_plans_record['feature'] = pricing_plans_row[4]\n",
    "            \n",
    "            pricing_plans_ref = apps_ref.collection('pricing_plans').document(pricing_plans_row[1]) # pricing_plans_row[0]\n",
    "            \n",
    "            batch.set(pricing_plans_ref, pricing_plans_record)\n",
    "            counter += 1\n",
    "            if counter >= 399:\n",
    "                batch.commit()\n",
    "                counter = 0\n",
    "            \n",
    "    for key_benefits_row in key_benefits_rows:\n",
    "        if apps_row[0] == key_benefits_row[0]:\n",
    "            \n",
    "            key_benefits_record = {}\n",
    "            key_benefits_record['title'] = key_benefits_row[1]\n",
    "            key_benefits_record['description'] = key_benefits_row[2]\n",
    "            #identifer = [key_benefits_row[0], key_benefits_row[1]]\n",
    "            \n",
    "            key_benefits_ref = apps_ref.collection('key_benefits').document(key_benefits_row[0])\n",
    "            \n",
    "            batch.set(key_benefits_ref, key_benefits_record)\n",
    "            \n",
    "            counter += 1\n",
    "            if counter >= 399:\n",
    "                batch.commit()\n",
    "                counter = 0\n",
    "            \n",
    "    for reviews_row in reviews_rows:\n",
    "        if apps_row[0] == reviews_row[0]:\n",
    "            \n",
    "            reviews_record = {}\n",
    "            reviews_record['author'] = reviews_row[1]\n",
    "            reviews_record['rating'] = reviews_row[2]\n",
    "            reviews_record['posted_at'] = reviews_row[3]\n",
    "            \n",
    "            reviews_ref = apps_ref.collection('reviews').document(reviews_row[0])\n",
    "            \n",
    "            batch.set(reviews_ref, reviews_record)\n",
    "            \n",
    "            counter += 1\n",
    "            if counter >= 399:\n",
    "                batch.commit()\n",
    "                counter = 0\n",
    "            \n",
    "    batch.commit()"
   ]
  },
  {
   "cell_type": "code",
   "execution_count": 116,
   "id": "designing-miami",
   "metadata": {},
   "outputs": [],
   "source": [
    "batch = db.batch()\n",
    "\n",
    "df = pd.read_csv(\"/home/jupyter/spanner_shopify/categories.csv\", sep=',', header=0, lineterminator='\\n')\n",
    "categories_rows = df.values.tolist()\n",
    "\n",
    "df = pd.read_csv(\"/home/jupyter/spanner_shopify/apps.csv\", sep=',', header=0, lineterminator='\\n')\n",
    "#apps_rows = df.values.tolist()\n",
    "ref = db.collection(\"apps\")\n",
    "data = ref.get()\n",
    "\n",
    "\n",
    "for categories_row in categories_rows:\n",
    "    \n",
    "    categories_record = {}\n",
    "    categories_record['app_id'] = categories_row[0]\n",
    "    categories_record['category_id'] = categories_row[1]\n",
    "    \n",
    "    categories_ref = db.collection(\"categories\").document(categories_row[0])\n",
    "    \n",
    "    batch.set(categories_ref, categories_record)\n",
    "    \n",
    "    \n",
    "    for apps_row in data:\n",
    "        if categories_row[0] == data[0]:\n",
    "            '''\n",
    "            apps_record = {}\n",
    "            apps_record['url'] = apps_row[1]\n",
    "            apps_record['title'] = apps_row[2]\n",
    "            apps_record['developer'] = apps_row[3]\n",
    "            apps_record['developer_link'] = apps_row[4]\n",
    "            apps_record['icon'] = apps_row[5]\n",
    "            apps_record['rating'] = apps_row[6]\n",
    "            apps_record['reviews_count'] = apps_row[7]\n",
    "            '''\n",
    "            apps_ref = categories_ref.collection('apps').document(apps_row[0])\n",
    "    \n",
    "            batch.set(apps_ref, apps_rows.dict())\n",
    "    \n",
    "            batch.commit()\n",
    "            "
   ]
  },
  {
   "cell_type": "code",
   "execution_count": 117,
   "id": "tested-admission",
   "metadata": {},
   "outputs": [
    {
     "name": "stdout",
     "output_type": "stream",
     "text": [
      "apps has 3547 documents\n"
     ]
    }
   ],
   "source": [
    "batch = db.batch()\n",
    "\n",
    "collection = db.collection('apps')\n",
    "documents = list(collection.get())\n",
    "print(\"apps has {} documents\".format(len(documents)))"
   ]
  },
  {
   "cell_type": "code",
   "execution_count": 118,
   "id": "satellite-shannon",
   "metadata": {},
   "outputs": [
    {
     "ename": "KeyError",
     "evalue": "\"'pricing_plans' is not contained in the data\"",
     "output_type": "error",
     "traceback": [
      "\u001b[0;31m---------------------------------------------------------------------------\u001b[0m",
      "\u001b[0;31mKeyError\u001b[0m                                  Traceback (most recent call last)",
      "\u001b[0;32m<ipython-input-118-954bb8c0ac39>\u001b[0m in \u001b[0;36m<module>\u001b[0;34m\u001b[0m\n\u001b[1;32m      3\u001b[0m \u001b[0mcount\u001b[0m \u001b[0;34m=\u001b[0m \u001b[0;36m0\u001b[0m\u001b[0;34m\u001b[0m\u001b[0;34m\u001b[0m\u001b[0m\n\u001b[1;32m      4\u001b[0m \u001b[0;32mfor\u001b[0m \u001b[0mdocument\u001b[0m \u001b[0;32min\u001b[0m \u001b[0mdb\u001b[0m\u001b[0;34m.\u001b[0m\u001b[0mcollection\u001b[0m\u001b[0;34m(\u001b[0m\u001b[0;34m'apps'\u001b[0m\u001b[0;34m)\u001b[0m\u001b[0;34m.\u001b[0m\u001b[0mstream\u001b[0m\u001b[0;34m(\u001b[0m\u001b[0;34m)\u001b[0m\u001b[0;34m:\u001b[0m\u001b[0;34m\u001b[0m\u001b[0;34m\u001b[0m\u001b[0m\n\u001b[0;32m----> 5\u001b[0;31m     \u001b[0mplan\u001b[0m \u001b[0;34m=\u001b[0m \u001b[0mdocument\u001b[0m\u001b[0;34m.\u001b[0m\u001b[0mget\u001b[0m\u001b[0;34m(\u001b[0m\u001b[0;34m'pricing_plans'\u001b[0m\u001b[0;34m)\u001b[0m\u001b[0;34m\u001b[0m\u001b[0;34m\u001b[0m\u001b[0m\n\u001b[0m\u001b[1;32m      6\u001b[0m     \u001b[0mcount\u001b[0m \u001b[0;34m+=\u001b[0m \u001b[0mlen\u001b[0m\u001b[0;34m(\u001b[0m\u001b[0mplan\u001b[0m\u001b[0;34m)\u001b[0m\u001b[0;34m\u001b[0m\u001b[0;34m\u001b[0m\u001b[0m\n\u001b[1;32m      7\u001b[0m \u001b[0mprint\u001b[0m\u001b[0;34m(\u001b[0m\u001b[0;34m\"pricing_plans has {} documents\"\u001b[0m\u001b[0;34m.\u001b[0m\u001b[0mformat\u001b[0m\u001b[0;34m(\u001b[0m\u001b[0mlen\u001b[0m\u001b[0;34m(\u001b[0m\u001b[0mcount\u001b[0m\u001b[0;34m)\u001b[0m\u001b[0;34m)\u001b[0m\u001b[0;34m)\u001b[0m\u001b[0;34m\u001b[0m\u001b[0;34m\u001b[0m\u001b[0m\n",
      "\u001b[0;32m/opt/conda/lib/python3.7/site-packages/google/cloud/firestore_v1/document.py\u001b[0m in \u001b[0;36mget\u001b[0;34m(self, field_path)\u001b[0m\n\u001b[1;32m    680\u001b[0m         \u001b[0;32mif\u001b[0m \u001b[0;32mnot\u001b[0m \u001b[0mself\u001b[0m\u001b[0;34m.\u001b[0m\u001b[0m_exists\u001b[0m\u001b[0;34m:\u001b[0m\u001b[0;34m\u001b[0m\u001b[0;34m\u001b[0m\u001b[0m\n\u001b[1;32m    681\u001b[0m             \u001b[0;32mreturn\u001b[0m \u001b[0;32mNone\u001b[0m\u001b[0;34m\u001b[0m\u001b[0;34m\u001b[0m\u001b[0m\n\u001b[0;32m--> 682\u001b[0;31m         \u001b[0mnested_data\u001b[0m \u001b[0;34m=\u001b[0m \u001b[0mfield_path_module\u001b[0m\u001b[0;34m.\u001b[0m\u001b[0mget_nested_value\u001b[0m\u001b[0;34m(\u001b[0m\u001b[0mfield_path\u001b[0m\u001b[0;34m,\u001b[0m \u001b[0mself\u001b[0m\u001b[0;34m.\u001b[0m\u001b[0m_data\u001b[0m\u001b[0;34m)\u001b[0m\u001b[0;34m\u001b[0m\u001b[0;34m\u001b[0m\u001b[0m\n\u001b[0m\u001b[1;32m    683\u001b[0m         \u001b[0;32mreturn\u001b[0m \u001b[0mcopy\u001b[0m\u001b[0;34m.\u001b[0m\u001b[0mdeepcopy\u001b[0m\u001b[0;34m(\u001b[0m\u001b[0mnested_data\u001b[0m\u001b[0;34m)\u001b[0m\u001b[0;34m\u001b[0m\u001b[0;34m\u001b[0m\u001b[0m\n\u001b[1;32m    684\u001b[0m \u001b[0;34m\u001b[0m\u001b[0m\n",
      "\u001b[0;32m/opt/conda/lib/python3.7/site-packages/google/cloud/firestore_v1/field_path.py\u001b[0m in \u001b[0;36mget_nested_value\u001b[0;34m(field_path, data)\u001b[0m\n\u001b[1;32m    241\u001b[0m                 \u001b[0;32mif\u001b[0m \u001b[0mindex\u001b[0m \u001b[0;34m==\u001b[0m \u001b[0;36m0\u001b[0m\u001b[0;34m:\u001b[0m\u001b[0;34m\u001b[0m\u001b[0;34m\u001b[0m\u001b[0m\n\u001b[1;32m    242\u001b[0m                     \u001b[0mmsg\u001b[0m \u001b[0;34m=\u001b[0m \u001b[0m_FIELD_PATH_MISSING_TOP\u001b[0m\u001b[0;34m.\u001b[0m\u001b[0mformat\u001b[0m\u001b[0;34m(\u001b[0m\u001b[0mfield_name\u001b[0m\u001b[0;34m)\u001b[0m\u001b[0;34m\u001b[0m\u001b[0;34m\u001b[0m\u001b[0m\n\u001b[0;32m--> 243\u001b[0;31m                     \u001b[0;32mraise\u001b[0m \u001b[0mKeyError\u001b[0m\u001b[0;34m(\u001b[0m\u001b[0mmsg\u001b[0m\u001b[0;34m)\u001b[0m\u001b[0;34m\u001b[0m\u001b[0;34m\u001b[0m\u001b[0m\n\u001b[0m\u001b[1;32m    244\u001b[0m                 \u001b[0;32melse\u001b[0m\u001b[0;34m:\u001b[0m\u001b[0;34m\u001b[0m\u001b[0;34m\u001b[0m\u001b[0m\n\u001b[1;32m    245\u001b[0m                     \u001b[0mpartial\u001b[0m \u001b[0;34m=\u001b[0m \u001b[0mrender_field_path\u001b[0m\u001b[0;34m(\u001b[0m\u001b[0mfield_names\u001b[0m\u001b[0;34m[\u001b[0m\u001b[0;34m:\u001b[0m\u001b[0mindex\u001b[0m\u001b[0;34m]\u001b[0m\u001b[0;34m)\u001b[0m\u001b[0;34m\u001b[0m\u001b[0;34m\u001b[0m\u001b[0m\n",
      "\u001b[0;31mKeyError\u001b[0m: \"'pricing_plans' is not contained in the data\""
     ]
    }
   ],
   "source": [
    "batch = db.batch()\n",
    "\n",
    "count = 0\n",
    "for document in db.collection('apps').stream():\n",
    "    plan = document.get('pricing_plans')\n",
    "    count += len(plan)\n",
    "print(\"pricing_plans has {} documents\".format(len(count)))\n",
    "\n"
   ]
  },
  {
   "cell_type": "code",
   "execution_count": 119,
   "id": "located-playback",
   "metadata": {},
   "outputs": [
    {
     "ename": "KeyError",
     "evalue": "\"'key_benefits' is not contained in the data\"",
     "output_type": "error",
     "traceback": [
      "\u001b[0;31m---------------------------------------------------------------------------\u001b[0m",
      "\u001b[0;31mKeyError\u001b[0m                                  Traceback (most recent call last)",
      "\u001b[0;32m<ipython-input-119-ce59fc0d4f68>\u001b[0m in \u001b[0;36m<module>\u001b[0;34m\u001b[0m\n\u001b[1;32m      3\u001b[0m \u001b[0mcount\u001b[0m \u001b[0;34m=\u001b[0m \u001b[0;36m0\u001b[0m\u001b[0;34m\u001b[0m\u001b[0;34m\u001b[0m\u001b[0m\n\u001b[1;32m      4\u001b[0m \u001b[0;32mfor\u001b[0m \u001b[0mdocument\u001b[0m \u001b[0;32min\u001b[0m \u001b[0mdb\u001b[0m\u001b[0;34m.\u001b[0m\u001b[0mcollection\u001b[0m\u001b[0;34m(\u001b[0m\u001b[0;34m'apps'\u001b[0m\u001b[0;34m)\u001b[0m\u001b[0;34m.\u001b[0m\u001b[0mstream\u001b[0m\u001b[0;34m(\u001b[0m\u001b[0;34m)\u001b[0m\u001b[0;34m:\u001b[0m\u001b[0;34m\u001b[0m\u001b[0;34m\u001b[0m\u001b[0m\n\u001b[0;32m----> 5\u001b[0;31m     \u001b[0mplan\u001b[0m \u001b[0;34m=\u001b[0m \u001b[0mdocument\u001b[0m\u001b[0;34m.\u001b[0m\u001b[0mget\u001b[0m\u001b[0;34m(\u001b[0m\u001b[0;34m'key_benefits'\u001b[0m\u001b[0;34m)\u001b[0m\u001b[0;34m\u001b[0m\u001b[0;34m\u001b[0m\u001b[0m\n\u001b[0m\u001b[1;32m      6\u001b[0m     \u001b[0mcount\u001b[0m \u001b[0;34m+=\u001b[0m \u001b[0mlen\u001b[0m\u001b[0;34m(\u001b[0m\u001b[0mplan\u001b[0m\u001b[0;34m)\u001b[0m\u001b[0;34m\u001b[0m\u001b[0;34m\u001b[0m\u001b[0m\n\u001b[1;32m      7\u001b[0m \u001b[0mprint\u001b[0m\u001b[0;34m(\u001b[0m\u001b[0;34m\"key_benefits has {} documents\"\u001b[0m\u001b[0;34m.\u001b[0m\u001b[0mformat\u001b[0m\u001b[0;34m(\u001b[0m\u001b[0mlen\u001b[0m\u001b[0;34m(\u001b[0m\u001b[0mcount\u001b[0m\u001b[0;34m)\u001b[0m\u001b[0;34m)\u001b[0m\u001b[0;34m)\u001b[0m\u001b[0;34m\u001b[0m\u001b[0;34m\u001b[0m\u001b[0m\n",
      "\u001b[0;32m/opt/conda/lib/python3.7/site-packages/google/cloud/firestore_v1/document.py\u001b[0m in \u001b[0;36mget\u001b[0;34m(self, field_path)\u001b[0m\n\u001b[1;32m    680\u001b[0m         \u001b[0;32mif\u001b[0m \u001b[0;32mnot\u001b[0m \u001b[0mself\u001b[0m\u001b[0;34m.\u001b[0m\u001b[0m_exists\u001b[0m\u001b[0;34m:\u001b[0m\u001b[0;34m\u001b[0m\u001b[0;34m\u001b[0m\u001b[0m\n\u001b[1;32m    681\u001b[0m             \u001b[0;32mreturn\u001b[0m \u001b[0;32mNone\u001b[0m\u001b[0;34m\u001b[0m\u001b[0;34m\u001b[0m\u001b[0m\n\u001b[0;32m--> 682\u001b[0;31m         \u001b[0mnested_data\u001b[0m \u001b[0;34m=\u001b[0m \u001b[0mfield_path_module\u001b[0m\u001b[0;34m.\u001b[0m\u001b[0mget_nested_value\u001b[0m\u001b[0;34m(\u001b[0m\u001b[0mfield_path\u001b[0m\u001b[0;34m,\u001b[0m \u001b[0mself\u001b[0m\u001b[0;34m.\u001b[0m\u001b[0m_data\u001b[0m\u001b[0;34m)\u001b[0m\u001b[0;34m\u001b[0m\u001b[0;34m\u001b[0m\u001b[0m\n\u001b[0m\u001b[1;32m    683\u001b[0m         \u001b[0;32mreturn\u001b[0m \u001b[0mcopy\u001b[0m\u001b[0;34m.\u001b[0m\u001b[0mdeepcopy\u001b[0m\u001b[0;34m(\u001b[0m\u001b[0mnested_data\u001b[0m\u001b[0;34m)\u001b[0m\u001b[0;34m\u001b[0m\u001b[0;34m\u001b[0m\u001b[0m\n\u001b[1;32m    684\u001b[0m \u001b[0;34m\u001b[0m\u001b[0m\n",
      "\u001b[0;32m/opt/conda/lib/python3.7/site-packages/google/cloud/firestore_v1/field_path.py\u001b[0m in \u001b[0;36mget_nested_value\u001b[0;34m(field_path, data)\u001b[0m\n\u001b[1;32m    241\u001b[0m                 \u001b[0;32mif\u001b[0m \u001b[0mindex\u001b[0m \u001b[0;34m==\u001b[0m \u001b[0;36m0\u001b[0m\u001b[0;34m:\u001b[0m\u001b[0;34m\u001b[0m\u001b[0;34m\u001b[0m\u001b[0m\n\u001b[1;32m    242\u001b[0m                     \u001b[0mmsg\u001b[0m \u001b[0;34m=\u001b[0m \u001b[0m_FIELD_PATH_MISSING_TOP\u001b[0m\u001b[0;34m.\u001b[0m\u001b[0mformat\u001b[0m\u001b[0;34m(\u001b[0m\u001b[0mfield_name\u001b[0m\u001b[0;34m)\u001b[0m\u001b[0;34m\u001b[0m\u001b[0;34m\u001b[0m\u001b[0m\n\u001b[0;32m--> 243\u001b[0;31m                     \u001b[0;32mraise\u001b[0m \u001b[0mKeyError\u001b[0m\u001b[0;34m(\u001b[0m\u001b[0mmsg\u001b[0m\u001b[0;34m)\u001b[0m\u001b[0;34m\u001b[0m\u001b[0;34m\u001b[0m\u001b[0m\n\u001b[0m\u001b[1;32m    244\u001b[0m                 \u001b[0;32melse\u001b[0m\u001b[0;34m:\u001b[0m\u001b[0;34m\u001b[0m\u001b[0;34m\u001b[0m\u001b[0m\n\u001b[1;32m    245\u001b[0m                     \u001b[0mpartial\u001b[0m \u001b[0;34m=\u001b[0m \u001b[0mrender_field_path\u001b[0m\u001b[0;34m(\u001b[0m\u001b[0mfield_names\u001b[0m\u001b[0;34m[\u001b[0m\u001b[0;34m:\u001b[0m\u001b[0mindex\u001b[0m\u001b[0;34m]\u001b[0m\u001b[0;34m)\u001b[0m\u001b[0;34m\u001b[0m\u001b[0;34m\u001b[0m\u001b[0m\n",
      "\u001b[0;31mKeyError\u001b[0m: \"'key_benefits' is not contained in the data\""
     ]
    }
   ],
   "source": [
    "batch = db.batch()\n",
    "\n",
    "count = 0\n",
    "for document in db.collection('apps').stream():\n",
    "    plan = document.get('key_benefits')\n",
    "    count += len(plan)\n",
    "print(\"key_benefits has {} documents\".format(len(count)))"
   ]
  },
  {
   "cell_type": "code",
   "execution_count": 120,
   "id": "massive-travel",
   "metadata": {},
   "outputs": [
    {
     "ename": "KeyError",
     "evalue": "\"'reviews' is not contained in the data\"",
     "output_type": "error",
     "traceback": [
      "\u001b[0;31m---------------------------------------------------------------------------\u001b[0m",
      "\u001b[0;31mKeyError\u001b[0m                                  Traceback (most recent call last)",
      "\u001b[0;32m<ipython-input-120-358cf6578367>\u001b[0m in \u001b[0;36m<module>\u001b[0;34m\u001b[0m\n\u001b[1;32m      3\u001b[0m \u001b[0mcount\u001b[0m \u001b[0;34m=\u001b[0m \u001b[0;36m0\u001b[0m\u001b[0;34m\u001b[0m\u001b[0;34m\u001b[0m\u001b[0m\n\u001b[1;32m      4\u001b[0m \u001b[0;32mfor\u001b[0m \u001b[0mdocument\u001b[0m \u001b[0;32min\u001b[0m \u001b[0mdb\u001b[0m\u001b[0;34m.\u001b[0m\u001b[0mcollection\u001b[0m\u001b[0;34m(\u001b[0m\u001b[0;34m'apps'\u001b[0m\u001b[0;34m)\u001b[0m\u001b[0;34m.\u001b[0m\u001b[0mstream\u001b[0m\u001b[0;34m(\u001b[0m\u001b[0;34m)\u001b[0m\u001b[0;34m:\u001b[0m\u001b[0;34m\u001b[0m\u001b[0;34m\u001b[0m\u001b[0m\n\u001b[0;32m----> 5\u001b[0;31m     \u001b[0mplan\u001b[0m \u001b[0;34m=\u001b[0m \u001b[0mdocument\u001b[0m\u001b[0;34m.\u001b[0m\u001b[0mget\u001b[0m\u001b[0;34m(\u001b[0m\u001b[0;34m'reviews'\u001b[0m\u001b[0;34m)\u001b[0m\u001b[0;34m\u001b[0m\u001b[0;34m\u001b[0m\u001b[0m\n\u001b[0m\u001b[1;32m      6\u001b[0m     \u001b[0mcount\u001b[0m \u001b[0;34m+=\u001b[0m \u001b[0mlen\u001b[0m\u001b[0;34m(\u001b[0m\u001b[0mplan\u001b[0m\u001b[0;34m)\u001b[0m\u001b[0;34m\u001b[0m\u001b[0;34m\u001b[0m\u001b[0m\n\u001b[1;32m      7\u001b[0m \u001b[0mprint\u001b[0m\u001b[0;34m(\u001b[0m\u001b[0;34m\"reviews has {} documents\"\u001b[0m\u001b[0;34m.\u001b[0m\u001b[0mformat\u001b[0m\u001b[0;34m(\u001b[0m\u001b[0mlen\u001b[0m\u001b[0;34m(\u001b[0m\u001b[0mcount\u001b[0m\u001b[0;34m)\u001b[0m\u001b[0;34m)\u001b[0m\u001b[0;34m)\u001b[0m\u001b[0;34m\u001b[0m\u001b[0;34m\u001b[0m\u001b[0m\n",
      "\u001b[0;32m/opt/conda/lib/python3.7/site-packages/google/cloud/firestore_v1/document.py\u001b[0m in \u001b[0;36mget\u001b[0;34m(self, field_path)\u001b[0m\n\u001b[1;32m    680\u001b[0m         \u001b[0;32mif\u001b[0m \u001b[0;32mnot\u001b[0m \u001b[0mself\u001b[0m\u001b[0;34m.\u001b[0m\u001b[0m_exists\u001b[0m\u001b[0;34m:\u001b[0m\u001b[0;34m\u001b[0m\u001b[0;34m\u001b[0m\u001b[0m\n\u001b[1;32m    681\u001b[0m             \u001b[0;32mreturn\u001b[0m \u001b[0;32mNone\u001b[0m\u001b[0;34m\u001b[0m\u001b[0;34m\u001b[0m\u001b[0m\n\u001b[0;32m--> 682\u001b[0;31m         \u001b[0mnested_data\u001b[0m \u001b[0;34m=\u001b[0m \u001b[0mfield_path_module\u001b[0m\u001b[0;34m.\u001b[0m\u001b[0mget_nested_value\u001b[0m\u001b[0;34m(\u001b[0m\u001b[0mfield_path\u001b[0m\u001b[0;34m,\u001b[0m \u001b[0mself\u001b[0m\u001b[0;34m.\u001b[0m\u001b[0m_data\u001b[0m\u001b[0;34m)\u001b[0m\u001b[0;34m\u001b[0m\u001b[0;34m\u001b[0m\u001b[0m\n\u001b[0m\u001b[1;32m    683\u001b[0m         \u001b[0;32mreturn\u001b[0m \u001b[0mcopy\u001b[0m\u001b[0;34m.\u001b[0m\u001b[0mdeepcopy\u001b[0m\u001b[0;34m(\u001b[0m\u001b[0mnested_data\u001b[0m\u001b[0;34m)\u001b[0m\u001b[0;34m\u001b[0m\u001b[0;34m\u001b[0m\u001b[0m\n\u001b[1;32m    684\u001b[0m \u001b[0;34m\u001b[0m\u001b[0m\n",
      "\u001b[0;32m/opt/conda/lib/python3.7/site-packages/google/cloud/firestore_v1/field_path.py\u001b[0m in \u001b[0;36mget_nested_value\u001b[0;34m(field_path, data)\u001b[0m\n\u001b[1;32m    241\u001b[0m                 \u001b[0;32mif\u001b[0m \u001b[0mindex\u001b[0m \u001b[0;34m==\u001b[0m \u001b[0;36m0\u001b[0m\u001b[0;34m:\u001b[0m\u001b[0;34m\u001b[0m\u001b[0;34m\u001b[0m\u001b[0m\n\u001b[1;32m    242\u001b[0m                     \u001b[0mmsg\u001b[0m \u001b[0;34m=\u001b[0m \u001b[0m_FIELD_PATH_MISSING_TOP\u001b[0m\u001b[0;34m.\u001b[0m\u001b[0mformat\u001b[0m\u001b[0;34m(\u001b[0m\u001b[0mfield_name\u001b[0m\u001b[0;34m)\u001b[0m\u001b[0;34m\u001b[0m\u001b[0;34m\u001b[0m\u001b[0m\n\u001b[0;32m--> 243\u001b[0;31m                     \u001b[0;32mraise\u001b[0m \u001b[0mKeyError\u001b[0m\u001b[0;34m(\u001b[0m\u001b[0mmsg\u001b[0m\u001b[0;34m)\u001b[0m\u001b[0;34m\u001b[0m\u001b[0;34m\u001b[0m\u001b[0m\n\u001b[0m\u001b[1;32m    244\u001b[0m                 \u001b[0;32melse\u001b[0m\u001b[0;34m:\u001b[0m\u001b[0;34m\u001b[0m\u001b[0;34m\u001b[0m\u001b[0m\n\u001b[1;32m    245\u001b[0m                     \u001b[0mpartial\u001b[0m \u001b[0;34m=\u001b[0m \u001b[0mrender_field_path\u001b[0m\u001b[0;34m(\u001b[0m\u001b[0mfield_names\u001b[0m\u001b[0;34m[\u001b[0m\u001b[0;34m:\u001b[0m\u001b[0mindex\u001b[0m\u001b[0;34m]\u001b[0m\u001b[0;34m)\u001b[0m\u001b[0;34m\u001b[0m\u001b[0;34m\u001b[0m\u001b[0m\n",
      "\u001b[0;31mKeyError\u001b[0m: \"'reviews' is not contained in the data\""
     ]
    }
   ],
   "source": [
    "batch = db.batch()\n",
    "\n",
    "count = 0\n",
    "for document in db.collection('apps').stream():\n",
    "    plan = document.get('reviews')\n",
    "    count += len(plan)\n",
    "print(\"reviews has {} documents\".format(len(count)))"
   ]
  },
  {
   "cell_type": "code",
   "execution_count": 121,
   "id": "optical-clone",
   "metadata": {},
   "outputs": [
    {
     "ename": "KeyError",
     "evalue": "\"'categories' is not contained in the data\"",
     "output_type": "error",
     "traceback": [
      "\u001b[0;31m---------------------------------------------------------------------------\u001b[0m",
      "\u001b[0;31mKeyError\u001b[0m                                  Traceback (most recent call last)",
      "\u001b[0;32m<ipython-input-121-f3d37d5c2443>\u001b[0m in \u001b[0;36m<module>\u001b[0;34m\u001b[0m\n\u001b[1;32m      3\u001b[0m \u001b[0mcount\u001b[0m \u001b[0;34m=\u001b[0m \u001b[0;36m0\u001b[0m\u001b[0;34m\u001b[0m\u001b[0;34m\u001b[0m\u001b[0m\n\u001b[1;32m      4\u001b[0m \u001b[0;32mfor\u001b[0m \u001b[0mdocument\u001b[0m \u001b[0;32min\u001b[0m \u001b[0mdb\u001b[0m\u001b[0;34m.\u001b[0m\u001b[0mcollection\u001b[0m\u001b[0;34m(\u001b[0m\u001b[0;34m'apps'\u001b[0m\u001b[0;34m)\u001b[0m\u001b[0;34m.\u001b[0m\u001b[0mstream\u001b[0m\u001b[0;34m(\u001b[0m\u001b[0;34m)\u001b[0m\u001b[0;34m:\u001b[0m\u001b[0;34m\u001b[0m\u001b[0;34m\u001b[0m\u001b[0m\n\u001b[0;32m----> 5\u001b[0;31m     \u001b[0mplan\u001b[0m \u001b[0;34m=\u001b[0m \u001b[0mdocument\u001b[0m\u001b[0;34m.\u001b[0m\u001b[0mget\u001b[0m\u001b[0;34m(\u001b[0m\u001b[0;34m'categories'\u001b[0m\u001b[0;34m)\u001b[0m\u001b[0;34m\u001b[0m\u001b[0;34m\u001b[0m\u001b[0m\n\u001b[0m\u001b[1;32m      6\u001b[0m     \u001b[0mcount\u001b[0m \u001b[0;34m+=\u001b[0m \u001b[0mlen\u001b[0m\u001b[0;34m(\u001b[0m\u001b[0mplan\u001b[0m\u001b[0;34m)\u001b[0m\u001b[0;34m\u001b[0m\u001b[0;34m\u001b[0m\u001b[0m\n\u001b[1;32m      7\u001b[0m \u001b[0mprint\u001b[0m\u001b[0;34m(\u001b[0m\u001b[0;34m\"categories has {} documents\"\u001b[0m\u001b[0;34m.\u001b[0m\u001b[0mformat\u001b[0m\u001b[0;34m(\u001b[0m\u001b[0mlen\u001b[0m\u001b[0;34m(\u001b[0m\u001b[0mcount\u001b[0m\u001b[0;34m)\u001b[0m\u001b[0;34m)\u001b[0m\u001b[0;34m)\u001b[0m\u001b[0;34m\u001b[0m\u001b[0;34m\u001b[0m\u001b[0m\n",
      "\u001b[0;32m/opt/conda/lib/python3.7/site-packages/google/cloud/firestore_v1/document.py\u001b[0m in \u001b[0;36mget\u001b[0;34m(self, field_path)\u001b[0m\n\u001b[1;32m    680\u001b[0m         \u001b[0;32mif\u001b[0m \u001b[0;32mnot\u001b[0m \u001b[0mself\u001b[0m\u001b[0;34m.\u001b[0m\u001b[0m_exists\u001b[0m\u001b[0;34m:\u001b[0m\u001b[0;34m\u001b[0m\u001b[0;34m\u001b[0m\u001b[0m\n\u001b[1;32m    681\u001b[0m             \u001b[0;32mreturn\u001b[0m \u001b[0;32mNone\u001b[0m\u001b[0;34m\u001b[0m\u001b[0;34m\u001b[0m\u001b[0m\n\u001b[0;32m--> 682\u001b[0;31m         \u001b[0mnested_data\u001b[0m \u001b[0;34m=\u001b[0m \u001b[0mfield_path_module\u001b[0m\u001b[0;34m.\u001b[0m\u001b[0mget_nested_value\u001b[0m\u001b[0;34m(\u001b[0m\u001b[0mfield_path\u001b[0m\u001b[0;34m,\u001b[0m \u001b[0mself\u001b[0m\u001b[0;34m.\u001b[0m\u001b[0m_data\u001b[0m\u001b[0;34m)\u001b[0m\u001b[0;34m\u001b[0m\u001b[0;34m\u001b[0m\u001b[0m\n\u001b[0m\u001b[1;32m    683\u001b[0m         \u001b[0;32mreturn\u001b[0m \u001b[0mcopy\u001b[0m\u001b[0;34m.\u001b[0m\u001b[0mdeepcopy\u001b[0m\u001b[0;34m(\u001b[0m\u001b[0mnested_data\u001b[0m\u001b[0;34m)\u001b[0m\u001b[0;34m\u001b[0m\u001b[0;34m\u001b[0m\u001b[0m\n\u001b[1;32m    684\u001b[0m \u001b[0;34m\u001b[0m\u001b[0m\n",
      "\u001b[0;32m/opt/conda/lib/python3.7/site-packages/google/cloud/firestore_v1/field_path.py\u001b[0m in \u001b[0;36mget_nested_value\u001b[0;34m(field_path, data)\u001b[0m\n\u001b[1;32m    241\u001b[0m                 \u001b[0;32mif\u001b[0m \u001b[0mindex\u001b[0m \u001b[0;34m==\u001b[0m \u001b[0;36m0\u001b[0m\u001b[0;34m:\u001b[0m\u001b[0;34m\u001b[0m\u001b[0;34m\u001b[0m\u001b[0m\n\u001b[1;32m    242\u001b[0m                     \u001b[0mmsg\u001b[0m \u001b[0;34m=\u001b[0m \u001b[0m_FIELD_PATH_MISSING_TOP\u001b[0m\u001b[0;34m.\u001b[0m\u001b[0mformat\u001b[0m\u001b[0;34m(\u001b[0m\u001b[0mfield_name\u001b[0m\u001b[0;34m)\u001b[0m\u001b[0;34m\u001b[0m\u001b[0;34m\u001b[0m\u001b[0m\n\u001b[0;32m--> 243\u001b[0;31m                     \u001b[0;32mraise\u001b[0m \u001b[0mKeyError\u001b[0m\u001b[0;34m(\u001b[0m\u001b[0mmsg\u001b[0m\u001b[0;34m)\u001b[0m\u001b[0;34m\u001b[0m\u001b[0;34m\u001b[0m\u001b[0m\n\u001b[0m\u001b[1;32m    244\u001b[0m                 \u001b[0;32melse\u001b[0m\u001b[0;34m:\u001b[0m\u001b[0;34m\u001b[0m\u001b[0;34m\u001b[0m\u001b[0m\n\u001b[1;32m    245\u001b[0m                     \u001b[0mpartial\u001b[0m \u001b[0;34m=\u001b[0m \u001b[0mrender_field_path\u001b[0m\u001b[0;34m(\u001b[0m\u001b[0mfield_names\u001b[0m\u001b[0;34m[\u001b[0m\u001b[0;34m:\u001b[0m\u001b[0mindex\u001b[0m\u001b[0;34m]\u001b[0m\u001b[0;34m)\u001b[0m\u001b[0;34m\u001b[0m\u001b[0;34m\u001b[0m\u001b[0m\n",
      "\u001b[0;31mKeyError\u001b[0m: \"'categories' is not contained in the data\""
     ]
    }
   ],
   "source": [
    "batch = db.batch()\n",
    "\n",
    "count = 0\n",
    "for document in db.collection('apps').stream():\n",
    "    plan = document.get('categories')\n",
    "    count += len(plan)\n",
    "print(\"categories has {} documents\".format(len(count)))"
   ]
  },
  {
   "cell_type": "code",
   "execution_count": 122,
   "id": "casual-vertex",
   "metadata": {},
   "outputs": [
    {
     "name": "stdout",
     "output_type": "stream",
     "text": [
      "d9f142ee-b141-4dc4-9353-173db61d2eb0, Privy ‑ Exit Pop Ups & Email, Privy, 4.7, 23078\n",
      "78ea0810-c008-4a4e-a82f-de0c790e3286, Free Shipping Bar, Hextom, 4.9, 8737\n",
      "b88488b0-9912-44d3-b736-224c36f09d95, Sales Pop ‑ Popup Notification, CartKit, 4.8, 6905\n",
      "e528a60e-94f8-4e92-80e2-5bc6013b8283, BEST Currency Converter, Grizzly Apps, 4.8, 5986\n",
      "be2640c4-01b5-4d52-9f68-cae8c0734d0d, Recart FB Messenger Marketing, Recart, 4.8, 5596\n",
      "70bff9e0-4316-4cc6-84ce-92fcd1bc6925, EU Cookie Bar ‑ Cookie GDPR, Booster Apps, 4.7, 5259\n",
      "171816e2-27d4-4552-a65e-ab44a312fe04, Sales Pop Master ‑ Countdown, Autoketing, 4.8, 4931\n",
      "9025eff0-d714-4df1-930f-43f5582979ad, Ultimate Sales Boost, Hextom, 4.8, 4847\n",
      "404183ac-6d52-4960-85d2-8350f37c2f0b, Ads by Varinode, Varinode, Inc., 4.9, 4245\n",
      "0380c5ed-7b91-4d4b-9a4e-f6a1c50269dd, Quick Announcement Bar, Hextom, 4.9, 4237\n"
     ]
    }
   ],
   "source": [
    "collection = db.collection(u'apps')\n",
    "query = collection.order_by('reviews_count', direction=firestore.Query.DESCENDING).limit(10)\n",
    "results = query.stream()\n",
    "for app in results:\n",
    "    #print(app.id, app.title, app.developer, app.rating, app.review_count)\n",
    "    d = app.to_dict()\n",
    "    print(app.id+\", \"+str(d['title'])+\", \"+str(d['developer'])+\", \"+str(d['rating'])+\", \"+str(d['reviews_count']))"
   ]
  },
  {
   "cell_type": "code",
   "execution_count": null,
   "id": "changing-ontario",
   "metadata": {},
   "outputs": [],
   "source": []
  }
 ],
 "metadata": {
  "environment": {
   "name": "common-cpu.mnightly-2021-02-12-debian-10-test",
   "type": "gcloud",
   "uri": "gcr.io/deeplearning-platform-release/base-cpu:mnightly-2021-02-12-debian-10-test"
  },
  "kernelspec": {
   "display_name": "Python 3",
   "language": "python",
   "name": "python3"
  },
  "language_info": {
   "codemirror_mode": {
    "name": "ipython",
    "version": 3
   },
   "file_extension": ".py",
   "mimetype": "text/x-python",
   "name": "python",
   "nbconvert_exporter": "python",
   "pygments_lexer": "ipython3",
   "version": "3.7.9"
  }
 },
 "nbformat": 4,
 "nbformat_minor": 5
}
